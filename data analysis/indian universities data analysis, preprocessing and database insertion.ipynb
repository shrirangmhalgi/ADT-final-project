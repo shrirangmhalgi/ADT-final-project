{
 "cells": [
  {
   "cell_type": "markdown",
   "id": "d43036e3",
   "metadata": {},
   "source": [
    "# Notebook for analysis of engineering-colleges-in-india"
   ]
  },
  {
   "cell_type": "markdown",
   "id": "63743649",
   "metadata": {},
   "source": [
    "## Done by Shrirang Mhalgi"
   ]
  },
  {
   "cell_type": "code",
   "execution_count": 327,
   "id": "a6d0f48f",
   "metadata": {},
   "outputs": [],
   "source": [
    "import numpy as np\n",
    "import pandas as pd\n",
    "import seaborn as sns\n",
    "import matplotlib.pyplot as plt\n",
    "from fuzzywuzzy import fuzz\n",
    "from pathlib import Path\n",
    "import mysql.connector\n",
    "from tqdm import tqdm"
   ]
  },
  {
   "cell_type": "code",
   "execution_count": 2,
   "id": "32b15cd2",
   "metadata": {},
   "outputs": [],
   "source": [
    "# reading the dataset\n",
    "engg_colleges = pd.read_csv(\"../datasets/indian_universities.csv\")"
   ]
  },
  {
   "cell_type": "code",
   "execution_count": 3,
   "id": "779aa8a0",
   "metadata": {},
   "outputs": [
    {
     "data": {
      "text/plain": [
       "(5440, 15)"
      ]
     },
     "execution_count": 3,
     "metadata": {},
     "output_type": "execute_result"
    }
   ],
   "source": [
    "# getting the shape of the dataset\n",
    "engg_colleges.shape"
   ]
  },
  {
   "cell_type": "code",
   "execution_count": 4,
   "id": "c055a2e0",
   "metadata": {},
   "outputs": [
    {
     "data": {
      "text/html": [
       "<div>\n",
       "<style scoped>\n",
       "    .dataframe tbody tr th:only-of-type {\n",
       "        vertical-align: middle;\n",
       "    }\n",
       "\n",
       "    .dataframe tbody tr th {\n",
       "        vertical-align: top;\n",
       "    }\n",
       "\n",
       "    .dataframe thead th {\n",
       "        text-align: right;\n",
       "    }\n",
       "</style>\n",
       "<table border=\"1\" class=\"dataframe\">\n",
       "  <thead>\n",
       "    <tr style=\"text-align: right;\">\n",
       "      <th></th>\n",
       "      <th>Total Student Enrollments</th>\n",
       "      <th>Total Faculty</th>\n",
       "      <th>Established Year</th>\n",
       "      <th>Rating</th>\n",
       "      <th>Average Fees</th>\n",
       "    </tr>\n",
       "  </thead>\n",
       "  <tbody>\n",
       "    <tr>\n",
       "      <th>count</th>\n",
       "      <td>4.437000e+03</td>\n",
       "      <td>5279.000000</td>\n",
       "      <td>5339.000000</td>\n",
       "      <td>327.000000</td>\n",
       "      <td>5.440000e+03</td>\n",
       "    </tr>\n",
       "    <tr>\n",
       "      <th>mean</th>\n",
       "      <td>1.915446e+03</td>\n",
       "      <td>96.739345</td>\n",
       "      <td>2000.425548</td>\n",
       "      <td>3.081896</td>\n",
       "      <td>1.886011e+05</td>\n",
       "    </tr>\n",
       "    <tr>\n",
       "      <th>std</th>\n",
       "      <td>1.841858e+04</td>\n",
       "      <td>113.869962</td>\n",
       "      <td>16.203044</td>\n",
       "      <td>0.305166</td>\n",
       "      <td>1.807647e+05</td>\n",
       "    </tr>\n",
       "    <tr>\n",
       "      <th>min</th>\n",
       "      <td>1.000000e+00</td>\n",
       "      <td>1.000000</td>\n",
       "      <td>1857.000000</td>\n",
       "      <td>2.010000</td>\n",
       "      <td>1.800000e+02</td>\n",
       "    </tr>\n",
       "    <tr>\n",
       "      <th>25%</th>\n",
       "      <td>4.090000e+02</td>\n",
       "      <td>37.000000</td>\n",
       "      <td>1998.000000</td>\n",
       "      <td>3.010000</td>\n",
       "      <td>9.000000e+04</td>\n",
       "    </tr>\n",
       "    <tr>\n",
       "      <th>50%</th>\n",
       "      <td>8.120000e+02</td>\n",
       "      <td>69.000000</td>\n",
       "      <td>2007.000000</td>\n",
       "      <td>3.100000</td>\n",
       "      <td>1.590000e+05</td>\n",
       "    </tr>\n",
       "    <tr>\n",
       "      <th>75%</th>\n",
       "      <td>1.551000e+03</td>\n",
       "      <td>124.000000</td>\n",
       "      <td>2009.000000</td>\n",
       "      <td>3.235000</td>\n",
       "      <td>2.400000e+05</td>\n",
       "    </tr>\n",
       "    <tr>\n",
       "      <th>max</th>\n",
       "      <td>1.035081e+06</td>\n",
       "      <td>2453.000000</td>\n",
       "      <td>2019.000000</td>\n",
       "      <td>3.830000</td>\n",
       "      <td>3.578597e+06</td>\n",
       "    </tr>\n",
       "  </tbody>\n",
       "</table>\n",
       "</div>"
      ],
      "text/plain": [
       "       Total Student Enrollments  Total Faculty  Established Year      Rating  \\\n",
       "count               4.437000e+03    5279.000000       5339.000000  327.000000   \n",
       "mean                1.915446e+03      96.739345       2000.425548    3.081896   \n",
       "std                 1.841858e+04     113.869962         16.203044    0.305166   \n",
       "min                 1.000000e+00       1.000000       1857.000000    2.010000   \n",
       "25%                 4.090000e+02      37.000000       1998.000000    3.010000   \n",
       "50%                 8.120000e+02      69.000000       2007.000000    3.100000   \n",
       "75%                 1.551000e+03     124.000000       2009.000000    3.235000   \n",
       "max                 1.035081e+06    2453.000000       2019.000000    3.830000   \n",
       "\n",
       "       Average Fees  \n",
       "count  5.440000e+03  \n",
       "mean   1.886011e+05  \n",
       "std    1.807647e+05  \n",
       "min    1.800000e+02  \n",
       "25%    9.000000e+04  \n",
       "50%    1.590000e+05  \n",
       "75%    2.400000e+05  \n",
       "max    3.578597e+06  "
      ]
     },
     "execution_count": 4,
     "metadata": {},
     "output_type": "execute_result"
    }
   ],
   "source": [
    "engg_colleges.describe()"
   ]
  },
  {
   "cell_type": "code",
   "execution_count": 5,
   "id": "3db5aef9",
   "metadata": {},
   "outputs": [
    {
     "data": {
      "text/plain": [
       "College Name                    0\n",
       "Genders Accepted               18\n",
       "Campus Size                  2751\n",
       "Total Student Enrollments    1003\n",
       "Total Faculty                 161\n",
       "Established Year              101\n",
       "Rating                       5113\n",
       "University                   1936\n",
       "Courses                         0\n",
       "Facilities                     12\n",
       "City                            0\n",
       "State                           0\n",
       "Country                         0\n",
       "College Type                    1\n",
       "Average Fees                    0\n",
       "dtype: int64"
      ]
     },
     "execution_count": 5,
     "metadata": {},
     "output_type": "execute_result"
    }
   ],
   "source": [
    "# checking for null values\n",
    "engg_colleges.isna().sum()"
   ]
  },
  {
   "cell_type": "code",
   "execution_count": 6,
   "id": "d963a44a",
   "metadata": {},
   "outputs": [
    {
     "data": {
      "text/plain": [
       "College Name                  object\n",
       "Genders Accepted              object\n",
       "Campus Size                   object\n",
       "Total Student Enrollments    float64\n",
       "Total Faculty                float64\n",
       "Established Year             float64\n",
       "Rating                       float64\n",
       "University                    object\n",
       "Courses                       object\n",
       "Facilities                    object\n",
       "City                          object\n",
       "State                         object\n",
       "Country                       object\n",
       "College Type                  object\n",
       "Average Fees                 float64\n",
       "dtype: object"
      ]
     },
     "execution_count": 6,
     "metadata": {},
     "output_type": "execute_result"
    }
   ],
   "source": [
    "# checking for data types of the columns\n",
    "engg_colleges.dtypes"
   ]
  },
  {
   "cell_type": "code",
   "execution_count": 7,
   "id": "0918ca91",
   "metadata": {},
   "outputs": [
    {
     "data": {
      "text/html": [
       "<div>\n",
       "<style scoped>\n",
       "    .dataframe tbody tr th:only-of-type {\n",
       "        vertical-align: middle;\n",
       "    }\n",
       "\n",
       "    .dataframe tbody tr th {\n",
       "        vertical-align: top;\n",
       "    }\n",
       "\n",
       "    .dataframe thead th {\n",
       "        text-align: right;\n",
       "    }\n",
       "</style>\n",
       "<table border=\"1\" class=\"dataframe\">\n",
       "  <thead>\n",
       "    <tr style=\"text-align: right;\">\n",
       "      <th></th>\n",
       "      <th>College Name</th>\n",
       "      <th>Genders Accepted</th>\n",
       "      <th>Campus Size</th>\n",
       "      <th>Total Student Enrollments</th>\n",
       "      <th>Total Faculty</th>\n",
       "      <th>Established Year</th>\n",
       "      <th>Rating</th>\n",
       "      <th>University</th>\n",
       "      <th>Courses</th>\n",
       "      <th>Facilities</th>\n",
       "      <th>City</th>\n",
       "      <th>State</th>\n",
       "      <th>Country</th>\n",
       "      <th>College Type</th>\n",
       "      <th>Average Fees</th>\n",
       "    </tr>\n",
       "  </thead>\n",
       "  <tbody>\n",
       "    <tr>\n",
       "      <th>0</th>\n",
       "      <td>National Institute of Technology Rourkela</td>\n",
       "      <td>Co-Ed</td>\n",
       "      <td>647 Acres</td>\n",
       "      <td>4811.0</td>\n",
       "      <td>329.0</td>\n",
       "      <td>2007.0</td>\n",
       "      <td>3.12</td>\n",
       "      <td>NaN</td>\n",
       "      <td>B.Tech Mechanical Engineering, B.Tech Computer...</td>\n",
       "      <td>Boys Hostel, Girls Hostel, Gym, Library, Sport...</td>\n",
       "      <td>Rourkela</td>\n",
       "      <td>Odisha</td>\n",
       "      <td>India</td>\n",
       "      <td>Public/Government</td>\n",
       "      <td>350600.000000</td>\n",
       "    </tr>\n",
       "    <tr>\n",
       "      <th>1</th>\n",
       "      <td>Visvesvaraya National Institute of Technology ...</td>\n",
       "      <td>Co-Ed</td>\n",
       "      <td>215 Acres</td>\n",
       "      <td>1071.0</td>\n",
       "      <td>192.0</td>\n",
       "      <td>2007.0</td>\n",
       "      <td>NaN</td>\n",
       "      <td>NaN</td>\n",
       "      <td>B.Tech Computer Science Engineering, B.Tech El...</td>\n",
       "      <td>Boys Hostel, Girls Hostel, Gym, Library, Sport...</td>\n",
       "      <td>Nagpur</td>\n",
       "      <td>Maharashtra</td>\n",
       "      <td>India</td>\n",
       "      <td>Public/Government</td>\n",
       "      <td>273596.666667</td>\n",
       "    </tr>\n",
       "    <tr>\n",
       "      <th>2</th>\n",
       "      <td>Netaji Subhas University of Technology</td>\n",
       "      <td>Co-Ed</td>\n",
       "      <td>145 Acres</td>\n",
       "      <td>3759.0</td>\n",
       "      <td>101.0</td>\n",
       "      <td>2018.0</td>\n",
       "      <td>NaN</td>\n",
       "      <td>NaN</td>\n",
       "      <td>B.Tech Computer Engineering, B.Tech Electronic...</td>\n",
       "      <td>Boys Hostel, Girls Hostel, Gym, Library, Sport...</td>\n",
       "      <td>New Delhi</td>\n",
       "      <td>Delhi</td>\n",
       "      <td>India</td>\n",
       "      <td>Public/Government</td>\n",
       "      <td>352320.000000</td>\n",
       "    </tr>\n",
       "    <tr>\n",
       "      <th>3</th>\n",
       "      <td>Birla Institute of Technology</td>\n",
       "      <td>Co-Ed</td>\n",
       "      <td>980 Acres</td>\n",
       "      <td>4506.0</td>\n",
       "      <td>284.0</td>\n",
       "      <td>1955.0</td>\n",
       "      <td>NaN</td>\n",
       "      <td>NaN</td>\n",
       "      <td>B.Tech Computer Science Engineering, B.Tech El...</td>\n",
       "      <td>Boys Hostel, Girls Hostel, Gym, Library, Sport...</td>\n",
       "      <td>Ranchi</td>\n",
       "      <td>Jharkhand</td>\n",
       "      <td>India</td>\n",
       "      <td>Private</td>\n",
       "      <td>596686.046512</td>\n",
       "    </tr>\n",
       "    <tr>\n",
       "      <th>4</th>\n",
       "      <td>International Institute of Information Technology</td>\n",
       "      <td>Co-Ed</td>\n",
       "      <td>66 Acres</td>\n",
       "      <td>1721.0</td>\n",
       "      <td>85.0</td>\n",
       "      <td>2001.0</td>\n",
       "      <td>3.05</td>\n",
       "      <td>NaN</td>\n",
       "      <td>B.Tech Computer Science and Engineering, M.Tec...</td>\n",
       "      <td>Boys Hostel, Girls Hostel, Gym, Library, Sport...</td>\n",
       "      <td>Hyderabad</td>\n",
       "      <td>Telangana</td>\n",
       "      <td>India</td>\n",
       "      <td>Private</td>\n",
       "      <td>756666.666667</td>\n",
       "    </tr>\n",
       "  </tbody>\n",
       "</table>\n",
       "</div>"
      ],
      "text/plain": [
       "                                        College Name Genders Accepted  \\\n",
       "0         National Institute of Technology Rourkela             Co-Ed   \n",
       "1  Visvesvaraya National Institute of Technology ...            Co-Ed   \n",
       "2             Netaji Subhas University of Technology            Co-Ed   \n",
       "3                      Birla Institute of Technology            Co-Ed   \n",
       "4  International Institute of Information Technology            Co-Ed   \n",
       "\n",
       "  Campus Size  Total Student Enrollments  Total Faculty  Established Year  \\\n",
       "0   647 Acres                     4811.0          329.0            2007.0   \n",
       "1   215 Acres                     1071.0          192.0            2007.0   \n",
       "2   145 Acres                     3759.0          101.0            2018.0   \n",
       "3   980 Acres                     4506.0          284.0            1955.0   \n",
       "4    66 Acres                     1721.0           85.0            2001.0   \n",
       "\n",
       "   Rating University                                            Courses  \\\n",
       "0    3.12        NaN  B.Tech Mechanical Engineering, B.Tech Computer...   \n",
       "1     NaN        NaN  B.Tech Computer Science Engineering, B.Tech El...   \n",
       "2     NaN        NaN  B.Tech Computer Engineering, B.Tech Electronic...   \n",
       "3     NaN        NaN  B.Tech Computer Science Engineering, B.Tech El...   \n",
       "4    3.05        NaN  B.Tech Computer Science and Engineering, M.Tec...   \n",
       "\n",
       "                                          Facilities       City        State  \\\n",
       "0  Boys Hostel, Girls Hostel, Gym, Library, Sport...   Rourkela       Odisha   \n",
       "1  Boys Hostel, Girls Hostel, Gym, Library, Sport...     Nagpur  Maharashtra   \n",
       "2  Boys Hostel, Girls Hostel, Gym, Library, Sport...  New Delhi        Delhi   \n",
       "3  Boys Hostel, Girls Hostel, Gym, Library, Sport...     Ranchi    Jharkhand   \n",
       "4  Boys Hostel, Girls Hostel, Gym, Library, Sport...  Hyderabad    Telangana   \n",
       "\n",
       "  Country       College Type   Average Fees  \n",
       "0   India  Public/Government  350600.000000  \n",
       "1   India  Public/Government  273596.666667  \n",
       "2   India  Public/Government  352320.000000  \n",
       "3   India            Private  596686.046512  \n",
       "4   India            Private  756666.666667  "
      ]
     },
     "execution_count": 7,
     "metadata": {},
     "output_type": "execute_result"
    }
   ],
   "source": [
    "engg_colleges.head()"
   ]
  },
  {
   "cell_type": "markdown",
   "id": "d2778229",
   "metadata": {},
   "source": [
    "## Performing column by column data analysis"
   ]
  },
  {
   "cell_type": "markdown",
   "id": "ac2b0a84",
   "metadata": {},
   "source": [
    "### 1. College Name : Some of the Colleges are repeated. In our database we need to make sure that we are storing unique colleges"
   ]
  },
  {
   "cell_type": "code",
   "execution_count": 8,
   "id": "f339e071",
   "metadata": {},
   "outputs": [
    {
     "data": {
      "text/plain": [
       "0"
      ]
     },
     "execution_count": 8,
     "metadata": {},
     "output_type": "execute_result"
    }
   ],
   "source": [
    "# checking for null values\n",
    "engg_colleges[\"College Name\"].isna().sum()"
   ]
  },
  {
   "cell_type": "code",
   "execution_count": 9,
   "id": "cde5bdb2",
   "metadata": {},
   "outputs": [
    {
     "data": {
      "text/plain": [
       "5440"
      ]
     },
     "execution_count": 9,
     "metadata": {},
     "output_type": "execute_result"
    }
   ],
   "source": [
    "# getting the total number of colleges which are present\n",
    "len(engg_colleges[\"College Name\"])"
   ]
  },
  {
   "cell_type": "code",
   "execution_count": 10,
   "id": "113870ba",
   "metadata": {},
   "outputs": [
    {
     "data": {
      "text/plain": [
       "4830"
      ]
     },
     "execution_count": 10,
     "metadata": {},
     "output_type": "execute_result"
    }
   ],
   "source": [
    "# getting the total number of unique colleges which are present\n",
    "len(set(engg_colleges[\"College Name\"]))"
   ]
  },
  {
   "cell_type": "code",
   "execution_count": 11,
   "id": "05403d60",
   "metadata": {},
   "outputs": [
    {
     "data": {
      "text/plain": [
       "'There are 205 repeated colleges which are available in the dataset'"
      ]
     },
     "execution_count": 11,
     "metadata": {},
     "output_type": "execute_result"
    }
   ],
   "source": [
    "# getting the count of repeated colleges \n",
    "college_count = {}\n",
    "\n",
    "# storing the count of corresponding colleges in the dictionary\n",
    "for college in list(engg_colleges[\"College Name\"]):\n",
    "    if college not in college_count.keys():\n",
    "        college_count[college] = 1\n",
    "    else: \n",
    "        college_count[college] += 1\n",
    "\n",
    "# getting the list of repeated colleges\n",
    "repeated_colleges = []\n",
    "\n",
    "for key, value in college_count.items():\n",
    "    if value > 1:\n",
    "        repeated_colleges.append(key)\n",
    "\n",
    "f\"There are {len(repeated_colleges)} repeated colleges which are available in the dataset\""
   ]
  },
  {
   "cell_type": "code",
   "execution_count": 12,
   "id": "dda01697",
   "metadata": {},
   "outputs": [
    {
     "data": {
      "text/plain": [
       "(4830, 15)"
      ]
     },
     "execution_count": 12,
     "metadata": {},
     "output_type": "execute_result"
    }
   ],
   "source": [
    "# dropping the duplicate rows from the dataset\n",
    "engg_colleges.drop_duplicates(subset=['College Name'], inplace=True)\n",
    "engg_colleges.shape"
   ]
  },
  {
   "cell_type": "markdown",
   "id": "d8dc6045",
   "metadata": {},
   "source": [
    "### 2. Genders Accepted : This can be a new database table where in we will store the unique genders accepted. Tomorrow if any new type of gender gets added, then we can easily update this table and add the new gender"
   ]
  },
  {
   "cell_type": "code",
   "execution_count": 13,
   "id": "a77b47ae",
   "metadata": {},
   "outputs": [
    {
     "data": {
      "text/plain": [
       "17"
      ]
     },
     "execution_count": 13,
     "metadata": {},
     "output_type": "execute_result"
    }
   ],
   "source": [
    "# checking for null values\n",
    "engg_colleges[\"Genders Accepted\"].isna().sum()"
   ]
  },
  {
   "cell_type": "code",
   "execution_count": 14,
   "id": "39100276",
   "metadata": {},
   "outputs": [
    {
     "data": {
      "text/plain": [
       "{'Co-Ed', 'Co-Ed5666656', 'Female', 'Male', nan}"
      ]
     },
     "execution_count": 14,
     "metadata": {},
     "output_type": "execute_result"
    }
   ],
   "source": [
    "# getting the total number of unique genders which are present\n",
    "set(engg_colleges[\"Genders Accepted\"])"
   ]
  },
  {
   "cell_type": "code",
   "execution_count": 15,
   "id": "d3e89dad",
   "metadata": {},
   "outputs": [],
   "source": [
    "# replacing the Co-Ed5666656 by Co-Ed\n",
    "engg_colleges[\"Genders Accepted\"].replace(\"Co-Ed5666656\", \"Co-Ed\", inplace=True)"
   ]
  },
  {
   "cell_type": "code",
   "execution_count": 16,
   "id": "4524a2a9",
   "metadata": {},
   "outputs": [
    {
     "data": {
      "text/plain": [
       "{'Co-Ed', 'Female', 'Male', nan}"
      ]
     },
     "execution_count": 16,
     "metadata": {},
     "output_type": "execute_result"
    }
   ],
   "source": [
    "# getting the total number of unique genders which are present\n",
    "# We can see that currently we have 4 types of genders in our dataset\n",
    "set(engg_colleges[\"Genders Accepted\"])"
   ]
  },
  {
   "cell_type": "code",
   "execution_count": 17,
   "id": "46c3755c",
   "metadata": {},
   "outputs": [
    {
     "data": {
      "text/plain": [
       "<AxesSubplot:xlabel='Genders Accepted', ylabel='count'>"
      ]
     },
     "execution_count": 17,
     "metadata": {},
     "output_type": "execute_result"
    },
    {
     "data": {
      "image/png": "[encoded data removed]",
      "text/plain": [
       "<Figure size 432x288 with 1 Axes>"
      ]
     },
     "metadata": {
      "needs_background": "light"
     },
     "output_type": "display_data"
    }
   ],
   "source": [
    "# getting the count of different genders accepted}\n",
    "sns.countplot(data=engg_colleges, x=engg_colleges[\"Genders Accepted\"])"
   ]
  },
  {
   "cell_type": "markdown",
   "id": "9af3bb63",
   "metadata": {},
   "source": [
    "### 3. Campus Size : Need to clean the column by removing the word acre after every value and convert the same into numerical column"
   ]
  },
  {
   "cell_type": "code",
   "execution_count": 18,
   "id": "db1511a2",
   "metadata": {},
   "outputs": [
    {
     "data": {
      "text/plain": [
       "2458"
      ]
     },
     "execution_count": 18,
     "metadata": {},
     "output_type": "execute_result"
    }
   ],
   "source": [
    "# checking for null values\n",
    "engg_colleges[\"Campus Size\"].isna().sum()"
   ]
  },
  {
   "cell_type": "code",
   "execution_count": 19,
   "id": "942fa061",
   "metadata": {},
   "outputs": [],
   "source": [
    "# replacing Acres / Acre with blank string and stripping out the spaces\n",
    "engg_colleges[\"Campus Size\"] = engg_colleges[\"Campus Size\"].str.replace(\"Acres\", \"\")\n",
    "engg_colleges[\"Campus Size\"] = engg_colleges[\"Campus Size\"].str.replace(\"Acre\", \"\")\n",
    "engg_colleges[\"Campus Size\"] = engg_colleges[\"Campus Size\"].str.strip()"
   ]
  },
  {
   "cell_type": "code",
   "execution_count": 20,
   "id": "3104671f",
   "metadata": {},
   "outputs": [],
   "source": [
    "# converting the data types of the Campus size to float\n",
    "engg_colleges[\"Campus Size\"] = engg_colleges[\"Campus Size\"].astype('float')"
   ]
  },
  {
   "cell_type": "code",
   "execution_count": 21,
   "id": "3064aff8",
   "metadata": {},
   "outputs": [
    {
     "data": {
      "text/plain": [
       "dtype('float64')"
      ]
     },
     "execution_count": 21,
     "metadata": {},
     "output_type": "execute_result"
    }
   ],
   "source": [
    "# checking the data type for Campus Size\n",
    "engg_colleges[\"Campus Size\"].dtype"
   ]
  },
  {
   "cell_type": "code",
   "execution_count": 22,
   "id": "c6a239f3",
   "metadata": {},
   "outputs": [
    {
     "data": {
      "text/plain": [
       "count     2372.000000\n",
       "mean        71.309865\n",
       "std        358.368825\n",
       "min          0.000000\n",
       "25%         11.000000\n",
       "50%         23.000000\n",
       "75%         50.000000\n",
       "max      16000.000000\n",
       "Name: Campus Size, dtype: float64"
      ]
     },
     "execution_count": 22,
     "metadata": {},
     "output_type": "execute_result"
    }
   ],
   "source": [
    "# getting the overview of the data\n",
    "engg_colleges[\"Campus Size\"].describe()"
   ]
  },
  {
   "cell_type": "markdown",
   "id": "d544d4cc",
   "metadata": {},
   "source": [
    "### 4. Total Student Enrollments : This column is already clean and contains some null values"
   ]
  },
  {
   "cell_type": "code",
   "execution_count": 23,
   "id": "4ccecc76",
   "metadata": {},
   "outputs": [
    {
     "data": {
      "text/plain": [
       "903"
      ]
     },
     "execution_count": 23,
     "metadata": {},
     "output_type": "execute_result"
    }
   ],
   "source": [
    "# checking for null values\n",
    "engg_colleges[\"Total Student Enrollments\"].isna().sum()"
   ]
  },
  {
   "cell_type": "code",
   "execution_count": 24,
   "id": "67e5afd7",
   "metadata": {},
   "outputs": [
    {
     "data": {
      "text/plain": [
       "dtype('float64')"
      ]
     },
     "execution_count": 24,
     "metadata": {},
     "output_type": "execute_result"
    }
   ],
   "source": [
    "# checking the data type for Total Student Enrollments \n",
    "engg_colleges[\"Total Student Enrollments\"].dtype"
   ]
  },
  {
   "cell_type": "code",
   "execution_count": 25,
   "id": "ffe4f8b9",
   "metadata": {},
   "outputs": [
    {
     "data": {
      "text/plain": [
       "count    3.927000e+03\n",
       "mean     2.048035e+03\n",
       "std      1.957238e+04\n",
       "min      1.000000e+00\n",
       "25%      4.150000e+02\n",
       "50%      8.360000e+02\n",
       "75%      1.610500e+03\n",
       "max      1.035081e+06\n",
       "Name: Total Student Enrollments, dtype: float64"
      ]
     },
     "execution_count": 25,
     "metadata": {},
     "output_type": "execute_result"
    }
   ],
   "source": [
    "# getting the overview of the data\n",
    "engg_colleges[\"Total Student Enrollments\"].describe()"
   ]
  },
  {
   "cell_type": "markdown",
   "id": "a4340ce9",
   "metadata": {},
   "source": [
    "### 5. Total Faculty : This column is already clean and contains some null values"
   ]
  },
  {
   "cell_type": "code",
   "execution_count": 26,
   "id": "e5410fb1",
   "metadata": {},
   "outputs": [
    {
     "data": {
      "text/plain": [
       "143"
      ]
     },
     "execution_count": 26,
     "metadata": {},
     "output_type": "execute_result"
    }
   ],
   "source": [
    "# checking for null values\n",
    "engg_colleges[\"Total Faculty\"].isna().sum()"
   ]
  },
  {
   "cell_type": "code",
   "execution_count": 27,
   "id": "f8354630",
   "metadata": {},
   "outputs": [
    {
     "data": {
      "text/plain": [
       "dtype('float64')"
      ]
     },
     "execution_count": 27,
     "metadata": {},
     "output_type": "execute_result"
    }
   ],
   "source": [
    "# checking the data type for Total Faculty\n",
    "engg_colleges[\"Total Faculty\"].dtype"
   ]
  },
  {
   "cell_type": "code",
   "execution_count": 28,
   "id": "3d5435a8",
   "metadata": {},
   "outputs": [
    {
     "data": {
      "text/plain": [
       "count    4687.000000\n",
       "mean      102.620226\n",
       "std       118.255767\n",
       "min         1.000000\n",
       "25%        42.000000\n",
       "50%        74.000000\n",
       "75%       129.000000\n",
       "max      2453.000000\n",
       "Name: Total Faculty, dtype: float64"
      ]
     },
     "execution_count": 28,
     "metadata": {},
     "output_type": "execute_result"
    }
   ],
   "source": [
    "# getting the overview of the data\n",
    "engg_colleges[\"Total Faculty\"].describe()"
   ]
  },
  {
   "cell_type": "code",
   "execution_count": 29,
   "id": "03d90012",
   "metadata": {},
   "outputs": [
    {
     "data": {
      "text/plain": [
       "<AxesSubplot:xlabel='Total Faculty', ylabel='Count'>"
      ]
     },
     "execution_count": 29,
     "metadata": {},
     "output_type": "execute_result"
    },
    {
     "data": {
      "image/png": "[encoded data removed]",
      "text/plain": [
       "<Figure size 432x288 with 1 Axes>"
      ]
     },
     "metadata": {
      "needs_background": "light"
     },
     "output_type": "display_data"
    }
   ],
   "source": [
    "sns.histplot(data=engg_colleges[\"Total Faculty\"], bins=80)"
   ]
  },
  {
   "cell_type": "markdown",
   "id": "6ef89854",
   "metadata": {},
   "source": [
    "### 6. Established Year: This column is already clean and contains some null values"
   ]
  },
  {
   "cell_type": "code",
   "execution_count": 30,
   "id": "95ea5b30",
   "metadata": {},
   "outputs": [
    {
     "data": {
      "text/plain": [
       "95"
      ]
     },
     "execution_count": 30,
     "metadata": {},
     "output_type": "execute_result"
    }
   ],
   "source": [
    "# checking for null values\n",
    "engg_colleges[\"Established Year\"].isna().sum()"
   ]
  },
  {
   "cell_type": "code",
   "execution_count": 31,
   "id": "07f80fa3",
   "metadata": {},
   "outputs": [
    {
     "data": {
      "text/plain": [
       "dtype('float64')"
      ]
     },
     "execution_count": 31,
     "metadata": {},
     "output_type": "execute_result"
    }
   ],
   "source": [
    "# checking the data type for Established Year\n",
    "engg_colleges[\"Established Year\"].dtype"
   ]
  },
  {
   "cell_type": "code",
   "execution_count": 32,
   "id": "2409fbd0",
   "metadata": {},
   "outputs": [
    {
     "data": {
      "text/plain": [
       "count    4735.000000\n",
       "mean     2000.954382\n",
       "std        15.723504\n",
       "min      1857.000000\n",
       "25%      1999.000000\n",
       "50%      2007.000000\n",
       "75%      2009.000000\n",
       "max      2019.000000\n",
       "Name: Established Year, dtype: float64"
      ]
     },
     "execution_count": 32,
     "metadata": {},
     "output_type": "execute_result"
    }
   ],
   "source": [
    "# getting the overview of the data\n",
    "engg_colleges[\"Established Year\"].describe()"
   ]
  },
  {
   "cell_type": "code",
   "execution_count": 33,
   "id": "eef4b89d",
   "metadata": {},
   "outputs": [
    {
     "data": {
      "text/plain": [
       "<AxesSubplot:xlabel='Established Year', ylabel='Count'>"
      ]
     },
     "execution_count": 33,
     "metadata": {},
     "output_type": "execute_result"
    },
    {
     "data": {
      "image/png": "[encoded data removed]",
      "text/plain": [
       "<Figure size 432x288 with 1 Axes>"
      ]
     },
     "metadata": {
      "needs_background": "light"
     },
     "output_type": "display_data"
    }
   ],
   "source": [
    "sns.histplot(data=engg_colleges[\"Established Year\"], bins=80)"
   ]
  },
  {
   "cell_type": "markdown",
   "id": "3ee2b13b",
   "metadata": {},
   "source": [
    "### 7. Rating: This column has almost all null values and has required data type"
   ]
  },
  {
   "cell_type": "code",
   "execution_count": 34,
   "id": "973586f7",
   "metadata": {},
   "outputs": [
    {
     "data": {
      "text/plain": [
       "4510"
      ]
     },
     "execution_count": 34,
     "metadata": {},
     "output_type": "execute_result"
    }
   ],
   "source": [
    "# checking for null values\n",
    "engg_colleges[\"Rating\"].isna().sum()"
   ]
  },
  {
   "cell_type": "code",
   "execution_count": 35,
   "id": "785fc751",
   "metadata": {},
   "outputs": [
    {
     "data": {
      "text/plain": [
       "dtype('float64')"
      ]
     },
     "execution_count": 35,
     "metadata": {},
     "output_type": "execute_result"
    }
   ],
   "source": [
    "# checking the data type for Rating\n",
    "engg_colleges[\"Rating\"].dtype"
   ]
  },
  {
   "cell_type": "code",
   "execution_count": 36,
   "id": "7790020e",
   "metadata": {},
   "outputs": [
    {
     "data": {
      "text/plain": [
       "<AxesSubplot:xlabel='Rating', ylabel='Rating'>"
      ]
     },
     "execution_count": 36,
     "metadata": {},
     "output_type": "execute_result"
    },
    {
     "data": {
      "image/png": "[encoded data removed]",
      "text/plain": [
       "<Figure size 432x288 with 1 Axes>"
      ]
     },
     "metadata": {
      "needs_background": "light"
     },
     "output_type": "display_data"
    }
   ],
   "source": [
    "plt.xlabel(\"Rating\")\n",
    "sns.boxplot(data=engg_colleges[\"Rating\"], y=engg_colleges[\"Rating\"])"
   ]
  },
  {
   "cell_type": "markdown",
   "id": "ca1ea455",
   "metadata": {},
   "source": [
    "### 8. University: This column can be normalized into a different table and contains some null values"
   ]
  },
  {
   "cell_type": "code",
   "execution_count": 37,
   "id": "cf0c46e8",
   "metadata": {},
   "outputs": [
    {
     "data": {
      "text/plain": [
       "1640"
      ]
     },
     "execution_count": 37,
     "metadata": {},
     "output_type": "execute_result"
    }
   ],
   "source": [
    "# checking for null values.\n",
    "engg_colleges[\"University\"].isna().sum()"
   ]
  },
  {
   "cell_type": "code",
   "execution_count": 38,
   "id": "723a99ae",
   "metadata": {},
   "outputs": [
    {
     "data": {
      "text/plain": [
       "'There are 185 unique universities present'"
      ]
     },
     "execution_count": 38,
     "metadata": {},
     "output_type": "execute_result"
    }
   ],
   "source": [
    "# getting the count of unique universities\n",
    "f\"There are {len(set(list(engg_colleges['University'])))} unique universities present\""
   ]
  },
  {
   "cell_type": "code",
   "execution_count": 39,
   "id": "a3a5154a",
   "metadata": {
    "scrolled": false
   },
   "outputs": [
    {
     "data": {
      "text/plain": [
       "{'APJ Abdul Kalam Technological University, Thiruvananthapuram',\n",
       " 'Acharya NG Ranga Agricultural University, Guntur',\n",
       " 'Acharya Nagarjuna University, Guntur',\n",
       " 'Al Falah University, Faridabad',\n",
       " 'Alliance University, Bangalore',\n",
       " 'Amity University, Noida',\n",
       " 'Amrita Vishwa Vidyapeetham, Coimbatore',\n",
       " 'Andhra University, Visakhapatnam',\n",
       " 'Anna University, Chennai',\n",
       " 'Annamalai University, Annamalai Nagar',\n",
       " 'Ansal University, Gurgaon',\n",
       " 'Arni University, Kathgarh',\n",
       " 'Aryabhatta Knowledge University, Patna',\n",
       " 'Assam Don Bosco University, Guwahati',\n",
       " 'Assam Science and Technology University, Guwahati',\n",
       " 'Assam University, Silchar',\n",
       " 'Atmiya University, Rajkot',\n",
       " 'Baddi University of Emerging Sciences and Technology, Baddi',\n",
       " 'Bangalore University, Bangalore',\n",
       " 'Barkatullah University, Bhopal',\n",
       " 'Bhabha University, Bhopal',\n",
       " 'Bharati Vidyapeeth, Pune',\n",
       " 'Bhupendra Narayan Mandal University, Madhepura',\n",
       " 'Biju Patnaik University of Technology, Rourkela',\n",
       " 'Bikaner Technical University, Bikaner',\n",
       " 'Birla Institute of Technology and Science, Pilani',\n",
       " 'Birla Institute of Technology, Mesra',\n",
       " 'CU Shah University, Surendranagar',\n",
       " 'Centurion University of Technology and Management, Bhubaneswar',\n",
       " 'Centurion University of Technology and Management, Paralakhemundi',\n",
       " 'Ch Bansi Lal University, Bhiwani',\n",
       " 'Chandigarh University, Chandigarh',\n",
       " 'Chandra Shekhar Azad University of Agriculture and Technology, Kanpur',\n",
       " 'Charotar University of Science and Technology, Petlad',\n",
       " 'Chaudhary Charan Singh University, Meerut',\n",
       " 'Chaudhary Devi Lal University, Sirsa',\n",
       " 'Chhatrapati Shahu Ji Maharaj University, Kanpur',\n",
       " 'Chhattisgarh Swami Vivekanand Technical University, Bhilai',\n",
       " 'Chitkara University, Patiala',\n",
       " 'Cochin University of Science and Technology, Kochi',\n",
       " 'Deen Bandhu Chhotu Ram University of Science and Technology, Murthal',\n",
       " 'Devi Ahilya Vishwavidyalaya, Indore',\n",
       " 'Dibrugarh University, Dibrugarh',\n",
       " 'Dr APJ Abdul Kalam Technical University, Lucknow',\n",
       " 'Dr Babasaheb Ambedkar Marathwada University, Aurangabad',\n",
       " 'Dr Babasaheb Ambedkar Technological University, Lonere',\n",
       " 'Dr CV Raman University, Vaishali',\n",
       " 'Dr DY Patil University, Navi Mumbai',\n",
       " 'Dr Vishwanath Karad MIT World Peace University, Pune',\n",
       " 'Eternal University, Sirmour',\n",
       " 'GD Goenka University, Gurgaon',\n",
       " 'GITAM University, Visakhapatnam',\n",
       " 'Ganpat University, Mehsana',\n",
       " 'Gauhati University, Guwahati',\n",
       " 'Gautam Buddha University, Greater Noida',\n",
       " 'Glocal University, Saharanpur',\n",
       " 'Goa University,Taleigao Plateau, Goa',\n",
       " 'Govind Ballabh Pant University of Agriculture and Technology, Pantnagar',\n",
       " 'Gujarat Technological University, Ahmedabad',\n",
       " 'Gujarat University, Ahmedabad',\n",
       " 'Guru Gobind Singh Indraprastha University, Delhi',\n",
       " 'Guru Jambheshwar University of Science and Technology, Hisar',\n",
       " 'Guru Nanak Dev University, Amritsar',\n",
       " 'Hemchandracharya North Gujarat University, Patan',\n",
       " 'Hemwati Nandan Bahuguna Garhwal University, Pauri Garhwal',\n",
       " 'Himachal Pradesh Technical University, Hamirpur',\n",
       " 'Himachal Pradesh University, Shimla',\n",
       " 'ICFAI Foundation for Higher Education, Hyderabad',\n",
       " 'IK Gujral Punjab Technical University, Jalandhar',\n",
       " 'Indian Institute of Technology Delhi',\n",
       " 'Indian Maritime University, Chennai',\n",
       " 'Indian Maritime University, Mumbai Port Campus',\n",
       " 'Indira Gandhi University, Meerpur',\n",
       " 'Indus University, Ahmedabad',\n",
       " 'Invertis University, Bareilly',\n",
       " 'JC Bose University of Science and Technology, YMCA, Faridabad',\n",
       " 'JS University, Shikohabad',\n",
       " 'Jagran Lakecity University, Bhopal',\n",
       " 'Jai Narain Vyas University, Jodhpur',\n",
       " 'Jai Prakash Vishwavidyalaya, Chapra',\n",
       " 'Janardan Rai Nagar Rajasthan Vidyapeeth, Udaipur',\n",
       " 'Jawaharlal Nehru Architecture and Fine Arts University, Hyderabad',\n",
       " 'Jawaharlal Nehru Technological University, Anantapur',\n",
       " 'Jawaharlal Nehru Technological University, Hyderabad',\n",
       " 'Jawaharlal Nehru Technological University, Kakinada',\n",
       " 'Jiwaji University, Gwalior',\n",
       " 'KK University, Nalanda',\n",
       " 'Kadi Sarva Vishwavidyalaya, Gandhinagar',\n",
       " 'Kakatiya University, Warangal',\n",
       " 'Kannur University, Kannur',\n",
       " 'Kavayitri Bahinabai Chaudhari North Maharashtra University, Jalgaon',\n",
       " 'Kolhan University, Chaibasa',\n",
       " 'Koneru Lakshmaiah Education Foundation, Guntur',\n",
       " 'Kurukshetra University, Kurukshetra',\n",
       " 'Lalit Narayan Mithila University, Darbhanga',\n",
       " 'MATS University, Raipur',\n",
       " 'MIT Art Design and Technology University, Pune',\n",
       " 'Madhyanchal Professional University, Bhopal',\n",
       " 'Magadh University, Bodhgaya',\n",
       " 'Maharaja Agrasen University, Solan',\n",
       " 'Maharaja Chhatrasal Bundelkhand University, Chhatarpur',\n",
       " 'Maharaja Ranjit Singh Punjab Technical University, Bathinda',\n",
       " 'Maharana Pratap University of Agriculture and Technology, Udaipur',\n",
       " 'Maharishi Markandeshwar Deemed to be University, Mullana',\n",
       " 'Maharshi Dayanand Saraswati University, Ajmer',\n",
       " 'Maharshi Dayanand University, Rohtak',\n",
       " 'Mahatma Gandhi Chitrakoot Gramodaya Vishwavidyalaya, Chitrakoot',\n",
       " 'Mahatma Gandhi University, Kottayam',\n",
       " 'Mahatma Phule Krishi Vidyapeeth, Rahuri',\n",
       " 'Manav Rachna International Institute of Research and Studies, Faridabad',\n",
       " 'Manipur University, Imphal',\n",
       " 'Maulana Abul Kalam Azad University of Technology, Kolkata',\n",
       " 'Mewar University, Chittorgarh',\n",
       " 'Mohammad Ali Jauhar University, Rampur',\n",
       " 'NITTE University, Mangalore',\n",
       " 'Narsee Monjee Institute of Management Studies, Mumbai',\n",
       " 'National Institute of Fashion Technology, Delhi',\n",
       " 'Nilamber Pitamber University, Medininagar',\n",
       " 'North Eastern Hill University, Shillong',\n",
       " 'OP Jindal Global University, Sonipat',\n",
       " 'Osmania University, Hyderabad',\n",
       " 'Pacific University, Udaipur',\n",
       " 'Panjab University, Chandigarh',\n",
       " 'Parul University, Vadodara',\n",
       " 'Peoples University, Bhopal',\n",
       " 'Pondicherry University, Puducherry',\n",
       " 'Ponnaiyah Ramajayam Institute of Science and Technology, Thanjavur',\n",
       " 'Punjab Agricultural University, Ludhiana',\n",
       " 'Punjabi University, Patiala',\n",
       " 'RIMT University, Gobindgarh',\n",
       " 'RKDF University, Bhopal',\n",
       " 'Rajasthan Technical University, Kota',\n",
       " 'Rajiv Gandhi Proudyogiki Vishwavidyalaya, Bhopal',\n",
       " 'Ranchi University, Ranchi',\n",
       " 'Rashtrasant Tukadoji Maharaj Nagpur University, Nagpur',\n",
       " 'Royal Global University, Guwahati',\n",
       " 'SNDT Womens University, Mumbai',\n",
       " 'SRM Institute of Science and Technology, Chennai',\n",
       " 'Sai Nath University, Ranchi',\n",
       " 'Sankalchand Patel University, Visnagar',\n",
       " 'Sant Gadge Baba Amravati University, Amravati',\n",
       " 'Sardar Patel University, Vallabh Vidyanagar',\n",
       " 'Sarguja University, Ambikapur',\n",
       " 'Sarvepalli Radhakrishnan University, Bhopal',\n",
       " 'Saveetha Institute of Medical and Technical Sciences, Chennai',\n",
       " 'Savitribai Phule Pune University, Pune',\n",
       " 'Shivaji University, Kolhapur',\n",
       " 'Shyam University, Dausa',\n",
       " 'Sido Kanhu Murmu University, Dumka',\n",
       " 'Sikkim Manipal University, Gangtok',\n",
       " 'Solapur University, Solapur',\n",
       " 'Sri Krishnadevaraya University, Anantapur',\n",
       " 'Sri Sai University, Palampur',\n",
       " 'Sri Siddhartha Academy of Higher Education, Tumkur',\n",
       " 'Sri Venkateswara University, Tirupati',\n",
       " 'Sri Venkateswara Veterinary University, Tirupati',\n",
       " 'Suresh Gyan Vihar University, Jaipur',\n",
       " 'Swami Ramanand Teerth Marathwada University, Nanded',\n",
       " 'Swami Vivekanand Subharti University, Meerut',\n",
       " 'Swami Vivekanand University, Sagar',\n",
       " 'Symbiosis International University, Pune',\n",
       " 'Tamil Nadu Agricultural University, Coimbatore',\n",
       " 'Tamil Nadu Dr J Jayalalithaa Fisheries University, Nagapattinam',\n",
       " 'Teerthanker Mahaveer University, Moradabad',\n",
       " 'Tripura University, Suryamaninagar',\n",
       " 'UKA Tarsadia University, Bardoli',\n",
       " 'University of Burdwan, Bardhaman',\n",
       " 'University of Calcutta, Kolkata',\n",
       " 'University of Calicut, Malappuram',\n",
       " 'University of Delhi, Delhi',\n",
       " 'University of Jammu, Jammu',\n",
       " 'University of Kerala, Thiruvananthapuram',\n",
       " 'University of Mumbai, Mumbai',\n",
       " 'University of Petroleum and Energy Studies, Dehradun',\n",
       " 'Uttarakhand Technical University, Dehradun',\n",
       " 'Uttaranchal University, Dehradun',\n",
       " 'Veer Bahadur Singh Purvanchal University, Jaunpur',\n",
       " 'Vellore Institute of Technology, Vellore',\n",
       " \"Vinayaka Mission's Research Foundation, Salem\",\n",
       " 'Vinoba Bhave University, Hazaribagh',\n",
       " 'Visvesvaraya Technological University, Belagavi',\n",
       " 'Vivekananda Global University, Jaipur',\n",
       " 'West Bengal University of Health Sciences, Kolkata',\n",
       " 'Yogi Vemana University, Kadapa',\n",
       " nan}"
      ]
     },
     "execution_count": 39,
     "metadata": {},
     "output_type": "execute_result"
    }
   ],
   "source": [
    "# getting the list of unique universities \n",
    "set(list(engg_colleges['University']))"
   ]
  },
  {
   "cell_type": "code",
   "execution_count": 40,
   "id": "dbd8d97d",
   "metadata": {},
   "outputs": [
    {
     "data": {
      "text/plain": [
       "<AxesSubplot:xlabel='count', ylabel='University'>"
      ]
     },
     "execution_count": 40,
     "metadata": {},
     "output_type": "execute_result"
    },
    {
     "data": {
      "image/png": "[encoded data removed]",
      "text/plain": [
       "<Figure size 432x288 with 1 Axes>"
      ]
     },
     "metadata": {
      "needs_background": "light"
     },
     "output_type": "display_data"
    }
   ],
   "source": [
    "# plotting the top 25 university counts\n",
    "sns.countplot(data=engg_colleges, y=engg_colleges[\"University\"], order=engg_colleges.University.value_counts().iloc[:25].index)"
   ]
  },
  {
   "cell_type": "markdown",
   "id": "2357cac5",
   "metadata": {},
   "source": [
    "### 9. Courses : This column contains comma separated values of all the courses that the specific university offers. This can be normalized into a different table and corresponding course values can be stored for specific college. "
   ]
  },
  {
   "cell_type": "code",
   "execution_count": 41,
   "id": "fc4ece28",
   "metadata": {},
   "outputs": [
    {
     "data": {
      "text/plain": [
       "0"
      ]
     },
     "execution_count": 41,
     "metadata": {},
     "output_type": "execute_result"
    }
   ],
   "source": [
    "engg_colleges[\"Courses\"].isna().sum()"
   ]
  },
  {
   "cell_type": "code",
   "execution_count": 42,
   "id": "a4c61403",
   "metadata": {
    "scrolled": false
   },
   "outputs": [
    {
     "data": {
      "text/plain": [
       "{'M.Tech Pharma Pharmaceutical Technology Biotechnology',\n",
       " 'Ph.D Criminology and Police Studies',\n",
       " 'Diploma in Mechanical and Automobile Engineering',\n",
       " 'M.V.Sc Veterinary Medicine',\n",
       " 'Economics and Physics',\n",
       " 'Ph.D Monsoon Studies',\n",
       " 'M.Sc Naturopathy',\n",
       " 'MBA Executive Financial Market',\n",
       " 'M.Tech Biotechnology and Biochemical Engineering',\n",
       " 'MBA Correspondence',\n",
       " 'M.Phil Biomedical Engineering',\n",
       " 'BA-Hindi Literature Sanskrit and Political Science',\n",
       " 'M.Sc by Research Mathematics',\n",
       " 'BFA Applied Arts',\n",
       " 'B.Tech MBA Automobile Engineering Integrated',\n",
       " 'MA Acharya',\n",
       " 'B.Tech Computer Science and Engineering with Specialization in Augmented Reality and Virtual Reality',\n",
       " 'Mechanical Engineering.',\n",
       " 'Ph.D Social Sciences in Health',\n",
       " 'M.Sc Biology Integrated',\n",
       " 'B.Voc Sanitary Inspection',\n",
       " 'B.Tech Nanotechnology',\n",
       " 'B.Sc Cardiac Catherization Laboratory Technology',\n",
       " 'Computer Science and Economics',\n",
       " 'MD Physical Medicine and Rehabilitation',\n",
       " 'B.Lib.Sc Self Finance Hons',\n",
       " 'MS by Research Architecture',\n",
       " 'M.Com Business Management',\n",
       " 'LLM Business Law',\n",
       " 'Diploma Vocational in Automobile Servicing Under NSQF Scheme',\n",
       " 'Diploma in Mechanical Engineering CAD',\n",
       " 'B.Des Interior Design Lateral Entry',\n",
       " 'M.Tech Instrumentation and Control',\n",
       " 'MBA Integrated',\n",
       " 'MBA OU',\n",
       " 'B.Sc Agriculture Extension',\n",
       " 'M.Tech High Performance Computing',\n",
       " 'BA Sociology Self Finance',\n",
       " 'B.Com Commerce and Tourism',\n",
       " 'M.Sc Engineering by Research Electronics and Communications',\n",
       " 'M.Phil Visual Communication',\n",
       " 'M.Sc Sustainable Development',\n",
       " 'B.Tech Mechanical Engineering and M.Tech Production and Industrial Engineering Integrated',\n",
       " 'BE Textile Processing',\n",
       " 'B.Com Foreign Trade Practice and Procedure',\n",
       " 'M.Sc Human Genetics Integrated',\n",
       " 'M.Sc Biotechnology Self Finance',\n",
       " 'BA Civics',\n",
       " 'M.Sc Sports Biochemistry',\n",
       " 'Executive MBA Airline and Airport Management',\n",
       " 'B.Sc and M.Sc Clinical Research Integrated',\n",
       " 'B.Tech Electronics and Communication Engineering Evening',\n",
       " 'B.Tech Safety and Fire Engineering Lateral Entry',\n",
       " 'M.Sc Agriculture Agronomy',\n",
       " 'BA Criminology',\n",
       " 'BA Hons',\n",
       " 'PG Diploma in Cyber Law and Cyber Crime',\n",
       " 'M.Sc Engineering by Research Computer Applications',\n",
       " 'B.Voc Hospitality and Tourism Management',\n",
       " 'MA Language Science Integrated',\n",
       " 'ME Electronics Instrumentation and Control Engineering',\n",
       " 'PGD Devotional and Folk Music',\n",
       " 'M.Sc Statistics and Data Analytics',\n",
       " 'MBA Digital and Telecom Management',\n",
       " 'M.Tech Appropriate Technology and Entrepreneurship',\n",
       " 'Ph.D Veterinary Medicine Ethics and Jurisprudence',\n",
       " 'M.Sc Agricultural Microbiology',\n",
       " 'B.Sc Graphic and Animation',\n",
       " 'Ph.D Home Science Extension Education',\n",
       " 'M.Sc Statistics and Computing',\n",
       " 'BA Yoga',\n",
       " 'M.Phil Energy and Environment',\n",
       " 'Ph.D Soil Sciences and Agriculture Chemistry',\n",
       " 'M.Arch Computer Application',\n",
       " 'PG Diploma in Retail Management',\n",
       " 'M.Sc Applied Solid State Physics',\n",
       " 'B.Tech MBA Integrated',\n",
       " 'B.Sc Endoscopy Technology',\n",
       " 'ME CAD /CAM Engineering',\n",
       " 'M.Sc Agricultural Nematology',\n",
       " 'PGD in Information Technology',\n",
       " 'B.Sc-Electronics',\n",
       " 'MA Spanish',\n",
       " 'MPA Tabla',\n",
       " 'Diploma in Disaster Management',\n",
       " 'Bachelor in Rehabilitation Therapy',\n",
       " 'MA Criminology',\n",
       " 'PGD Broadcast Journalism',\n",
       " 'Electronics Telecommunication Engineering',\n",
       " 'Ph.D Plastic Engineering',\n",
       " 'BE Architectural Assistantship',\n",
       " 'MMS Family Business and Entrepreneurship',\n",
       " 'MD Ayurved Kaumarbhritya',\n",
       " 'Diploma in Design and Drafting Engineering',\n",
       " 'Zoology and Chemistry Telugu Medium',\n",
       " 'ME Construction Technology and Management',\n",
       " 'B.Sc Operation Theater',\n",
       " 'M.Tech Radio Physics and Electronics',\n",
       " 'BMRT',\n",
       " 'B.Sc Critical Care Technology',\n",
       " 'Drawing and Painting and Hindi',\n",
       " 'B.Sc Microbiology Hons',\n",
       " 'Physics and Geology English Medium',\n",
       " 'B.Tech Chemical Science and Technology',\n",
       " 'M.Tech Power Electronics and Electrical Drives II Shift',\n",
       " 'Ph.D Foods and Nutrition Part Time',\n",
       " 'M.Sc Home Science with Specialization in Human Development',\n",
       " 'B.Voc Mass Communication and Journalism',\n",
       " 'BA-English Literature',\n",
       " 'M.Sc Tech Geophysics',\n",
       " 'MBA Banking And Finance',\n",
       " 'PGD Logistics and Supply Chain Management',\n",
       " 'Forensic Science and Anthropology',\n",
       " 'M.Sc Agronomy',\n",
       " 'M.Sc Atmospheric Sciences',\n",
       " 'PGD Retail Management',\n",
       " 'M.Tech Surface Coating Technology',\n",
       " 'B.Com Computer Application Self Finance',\n",
       " 'B.Sc Visual Communication II Shift',\n",
       " 'MBA Global Logistics and Supply Chain Management',\n",
       " 'M.V.Sc Veterinary Gynaecology and Obstetrics',\n",
       " 'Diploma in Tourism Studies',\n",
       " 'BA History Hons',\n",
       " 'MA Korean Integrated',\n",
       " 'M.Arch Part Time',\n",
       " 'B.V.Sc and Animal Husbandry',\n",
       " 'BBA MBA Integrated',\n",
       " 'BCA Hons and MCA Hons Dual Degree',\n",
       " 'Diploma Vocational in Software Development Under NSQF Scheme',\n",
       " 'B.Tech Electronics and Telecommunication Engineering Integrated',\n",
       " 'Ph.D Construction Engineering and Management',\n",
       " 'MPT Cardiovascular and Pulmonary Science',\n",
       " 'Bio �Technology',\n",
       " 'MA Conservation and Regeneration',\n",
       " 'M.Tech Microwave Engineering',\n",
       " 'M.Tech Robotics and Automation',\n",
       " 'PGD Tribal Management',\n",
       " 'B.Sc Emergency and Trauma Care',\n",
       " 'Diploma in Fire and Safety Management',\n",
       " 'ME Wireless Communication',\n",
       " 'PGD Photography',\n",
       " 'Diploma in Homeopathy Pharmacy',\n",
       " 'ME Power System Engineering Part Time',\n",
       " 'MBA Strategic Human Resource',\n",
       " 'M.Sc Nurse Practitioner in Critical Care',\n",
       " 'BMM',\n",
       " 'M.Tech VLSI and Embedded System Engineering',\n",
       " 'Diploma in Electronics Robotics Sandwich Self Finance',\n",
       " 'B.Tech Information Technology Business Informatics',\n",
       " 'M.Com Pure',\n",
       " 'History and Public Administration',\n",
       " 'M.Sc Computer Application and Information Technology',\n",
       " 'M.Sc Radio Imaging Technology',\n",
       " 'B.Sc Optometry Technology',\n",
       " 'B.Tech Information Technology Evening Shift',\n",
       " 'Diploma in Leather Technology',\n",
       " 'M.Tech Computer Network Engineering VTU',\n",
       " 'MA Music Instrumental',\n",
       " 'M.Tech Nano Sciences and Technology',\n",
       " 'Ph.D Quality Assurance',\n",
       " 'MBA Operations Research',\n",
       " 'B.Sc Agriculture MBA Agriculture Business Management Integrated',\n",
       " 'M.Tech Construction and Management',\n",
       " 'MS by Research Data Sciences',\n",
       " 'Ph.D Human Resources Management Part Time',\n",
       " 'Bachelor in Physiotherapy',\n",
       " 'Master of Mass Communication',\n",
       " 'M.Tech Distributed Computing System',\n",
       " 'M.Sc Industrial Microbiology',\n",
       " 'BA Research in History',\n",
       " 'Ph.D Forestry and Biodiversity',\n",
       " 'Diploma in Construction Management Engineering Lateral Entry Part Time',\n",
       " 'ME Structural Engineering II Shift',\n",
       " 'B.Tech Metallurgical Engineering Integrated',\n",
       " 'Fellowship in Aesthetic Dentistry and Occlusion',\n",
       " 'Bachelor of Fashion Design',\n",
       " 'B.Com International Finance',\n",
       " 'Ph.D Instrumentation Technology',\n",
       " 'B.Tech Computer Network Engineering',\n",
       " 'M.Tech Electronics and Communication Engineering II shift',\n",
       " 'Ph.D Mathematics Integrated',\n",
       " 'M.Tech Automotive Engineering Part Time',\n",
       " 'Diploma in Immuno Hematology and Blood Transfusion',\n",
       " 'Biology and Microbiology',\n",
       " 'MA History and Archeology',\n",
       " 'B.Tech MBA Biotechnology Engineering Integrated',\n",
       " 'Diploma in Mechanical Engineering Refrigeration and Air Conditioning',\n",
       " 'D.El.Ed Self Finance',\n",
       " 'M.Tech Research Power Systems',\n",
       " 'B.Com Marketing Major',\n",
       " 'BA Photography Digital Imaging',\n",
       " 'D.Optom',\n",
       " 'M.Tech Power Electronics and Drives II Shift',\n",
       " 'M.Phil Biotextiles',\n",
       " 'Computer and Hindi Self Financing',\n",
       " 'PGD Dietetics and Hospital Food Service',\n",
       " 'ME Advanced Design and Manufacturing',\n",
       " 'PGD Hospital Management',\n",
       " 'MS by Research Data Sciences Part Time',\n",
       " 'B.Sc Aviation',\n",
       " 'M.Pharma Pharmaceutical Chemistry',\n",
       " 'ME Embedded System Technologies',\n",
       " 'Ph.D Electrical and Electronics Engineering Part Time',\n",
       " 'Ph.D Account',\n",
       " 'Ph.D Coastal Zone Management',\n",
       " 'M.Sc Global Warming Reduction',\n",
       " 'M.Tech Soil and Foundation Engineering',\n",
       " 'B.Sc Cardiac Care Technology Hons',\n",
       " 'M.Sc Forensic Science and Toxicology Lateral Entry',\n",
       " 'M.Tech Industrial and Production Engineering',\n",
       " 'PG Diploma in Islamic Banking and Finance',\n",
       " 'PG Diploma in Labour and Industrial Law',\n",
       " 'Instrumentation and Mathematics',\n",
       " 'M.Sc Agricultural Plant Breeding and Genetics',\n",
       " 'BA Tamil Literature',\n",
       " 'Diploma in Dialysis Techniques',\n",
       " 'B.Tech MBA Computer Science Engineering Integrated',\n",
       " 'Post Graduate Diploma in Food Drug and Cosmetics',\n",
       " 'Diploma in Garment Manufacturing Technology',\n",
       " 'BE Biomedical Engineering',\n",
       " 'B.Sc Textile Design Lateral Entry',\n",
       " 'Post Graduate Diploma in Financial Services',\n",
       " 'Diploma in Computer Aided Costume Design and Dress Making',\n",
       " 'M.Sc Applied Zoology',\n",
       " 'PGD Business Management Part Time',\n",
       " 'M.Phil Computer Science Engineering',\n",
       " 'M.Tech Digital Techniques and Instrumentation',\n",
       " 'B.Tech Biochemical Engineering',\n",
       " 'MA Social Exclusion and Inclusive Policy',\n",
       " 'Post Graduate Diploma in Obstetrics and Gynaecology',\n",
       " 'ME Petroleum Engineering',\n",
       " 'Ph.D Ayurvedic Pharmacy',\n",
       " 'BA Psychology and Human Resource Management',\n",
       " 'M.Des Animation',\n",
       " 'B.Sc Applied Optometry',\n",
       " 'M.Phil English Literature',\n",
       " 'Diploma in Mechanical Engineering Evening',\n",
       " 'Political Science and Education',\n",
       " 'M.Sc Ph.D Hepatobiliary and GastroIntestinal Disorders and GIT Endoscopy Management Integrated',\n",
       " 'BBA MBA Retail Management Integrated',\n",
       " 'Advance Diploma in CAD CAM and CNC',\n",
       " 'Advanced Diploma in Computer Application',\n",
       " 'Advanced Diploma in Jewellery Design',\n",
       " 'MA Architectural History and Theory',\n",
       " 'Political Science and Sociology',\n",
       " 'Manipuri and History',\n",
       " 'Diploma in Health Safety',\n",
       " 'Diploma in Electronic Engineering II Shift',\n",
       " 'M.Tech Applied Geology',\n",
       " 'Diploma in Marketing Management',\n",
       " 'Diploma in Front Office Operation',\n",
       " 'PGD Marketing and Advertising',\n",
       " 'Advance Diploma in Vastu shastra',\n",
       " 'Diploma in Civil Engineering Evening Shift',\n",
       " 'MBA Supply Chain and Logistics with Safeducate',\n",
       " 'PGD in Disaster Management',\n",
       " 'ME Aerospace Technology',\n",
       " 'M.Tech Environmental Engineering Weekend',\n",
       " 'MS Engineering by Research Mechanical Engineering',\n",
       " 'Post Graduate Diploma in Computer Applications',\n",
       " 'ME Machine Design Engineering',\n",
       " 'Graduate Management Trainee Program in Building Automation',\n",
       " 'M.Sc Mental Health Nursing Psychiatry',\n",
       " 'BA Political Science in International Relations Hons',\n",
       " 'ME Computer Science and Engineering Modular',\n",
       " 'M.Phil Pharmacy and Quality Assurance',\n",
       " 'M.Sc Engineering by Research in Computer Science and Engineering',\n",
       " 'M.Tech Industrial Refrigeration and Cryogenics',\n",
       " 'M.Phil Biology',\n",
       " 'B.Sc Forensic Sciences Hons',\n",
       " 'ME Networking Engineering',\n",
       " 'Ph.D Environmental Science Engineering',\n",
       " 'B.Sc and M.Sc Microbial Technology Integrated',\n",
       " 'B.Tech. Electrical Engineering Lateral Entry',\n",
       " 'MA Sanskrit Studies',\n",
       " 'M.Tech Manufacturing and Automation',\n",
       " 'Diploma in Animation and Multimedia Technology',\n",
       " 'M.Sc Hospitality Administration',\n",
       " 'Fellowship in Pediatric Critical Care',\n",
       " 'Post Basic Diploma in Ortho and Rehabilitation Nursing',\n",
       " 'ME Wireless Communications',\n",
       " 'B.Sc and M.Sc Information Technology Integrated',\n",
       " 'MA Hindi Language and Literature',\n",
       " 'PG Diploma in Counselling and Psychotherapy',\n",
       " 'M.Sc Foods and Nutrition',\n",
       " 'PG Diploma in Intellectual Property Rights',\n",
       " 'Diploma in Electrical and Power System',\n",
       " 'M.Sc. General Biotechnology',\n",
       " 'M.Tech Electrical Devices and Power System Engineering',\n",
       " 'B.Sc Hons',\n",
       " 'B.Tech Civil and Rural Engineering',\n",
       " 'Ph.D Humanities and Management',\n",
       " 'M.Tech Power System and Control Engineering',\n",
       " 'Ph.D Environmental Design',\n",
       " 'BBA Financial Analysis and Technology',\n",
       " 'M.Sc Immunology and Microbiology',\n",
       " 'MA Sociology Integrated',\n",
       " 'M.Phil Forensic Psychology',\n",
       " 'B.Tech Genetic Engineering',\n",
       " 'BA Music Instrument Hons',\n",
       " 'Political Science and Sanskrit Literature',\n",
       " 'B.Sc and M.Sc Integrated Biomedical Science',\n",
       " 'B.Com Accountancy and Finance',\n",
       " 'BBA Agriculture Business Management',\n",
       " 'MA Educational Planning and Administration',\n",
       " 'B.Sc Psychology Hons',\n",
       " 'Physics and Computer Science Self Finance',\n",
       " 'Ph.D Textile Chemistry',\n",
       " 'Diploma in Veterinary Sciences and Animal Health Technology',\n",
       " 'B.Sc Chemistry Hons',\n",
       " 'Ph.D English with Applied Linguistics',\n",
       " 'BA Tourism and Leisure Management Hons',\n",
       " 'M.Teh Artificial Intelligence',\n",
       " 'MS by Research Physics',\n",
       " 'B.Com Financial Markets Management Hons',\n",
       " 'MPA Violin',\n",
       " 'B.Tech Ceramic Engineering and M.Tech Industrial Ceramics',\n",
       " 'MA Buddhist Studies and Civilization',\n",
       " 'Ph.D Electrical and Electronics Engineering',\n",
       " 'Physics and Chemistry Telugu Medium',\n",
       " 'Diploma in Nutrition and Health Education',\n",
       " 'Diploma in Hospitality Management',\n",
       " 'M.Phil Agricultural Part Time',\n",
       " 'Diploma in Hearing Language and Speech',\n",
       " 'MA Public Relations',\n",
       " 'M.Sc Medical Lab Technology Pathology',\n",
       " 'B.Sc Physics Self Finance',\n",
       " 'B.Sc Nano Science Self Finance',\n",
       " 'Ph.D Special Education Part Time',\n",
       " 'ME Material Science and Technology',\n",
       " 'PG Diploma in Maternal Healthcare Self Finance',\n",
       " 'Economics and Urdu',\n",
       " 'PGD Translation',\n",
       " 'BE Aeronautical Engineering',\n",
       " 'Diploma in Industrial Electronics Engineering',\n",
       " 'M.Phil Nanotechnology Part Time',\n",
       " 'M.Tech Wireless Communications',\n",
       " 'Diploma in Medical Lab Technology',\n",
       " 'Diploma in Animal Husbandry and Dairying',\n",
       " 'B.Sc Computer Application Vocational',\n",
       " 'ME Heat Power Engineering II Shift',\n",
       " 'B.Sc TMT Technology',\n",
       " 'Diploma in Electronics and Video Engineering',\n",
       " 'Ph.D Anatomy',\n",
       " 'BE Electronics and Instrumentation Engineering Part Time',\n",
       " 'M.Sc Molecular Genetics',\n",
       " 'B.Com Corporate Secretaryship Self Finance',\n",
       " 'MPT Musculoskeletal Science and Sports',\n",
       " 'B.Sc Anesthesia Technology',\n",
       " 'Ph.D Industrial Engineering and Operational Research',\n",
       " 'Diploma in Maternity and Child Welfare',\n",
       " 'BBA and MBA Family Business Management',\n",
       " 'Fitness and Nutrition',\n",
       " 'M.Lib.I.Sc',\n",
       " 'B.Sc Fashion Design Lateral Entry',\n",
       " 'Ph.D Nutritional Science',\n",
       " 'BA Self Finance',\n",
       " 'B.Com Accounts and Finance',\n",
       " 'M.Tech VLSI System Design II Shift',\n",
       " 'B.Sc Information Technology',\n",
       " 'M.Tech Planning',\n",
       " 'Health Education and Sports',\n",
       " 'PGD Taxation Law',\n",
       " 'B.Com Accounting and Finance Evening Shift',\n",
       " 'MBA I Shift',\n",
       " 'M.Tech Irrigation and Drainage Engineering',\n",
       " 'BPA Instrumental Violin',\n",
       " 'M.Tech Cloud Computing',\n",
       " 'M.Tech Agricultural Water Management',\n",
       " 'Diploma in Maintenance Engineering Lateral Entry Evening Shift',\n",
       " 'BA Interior Design Hons',\n",
       " 'M.Sc Plant Breeding and Genetics',\n",
       " 'Ph.D Power System and Control Engineering',\n",
       " 'B.Voc Food Processing and Management',\n",
       " 'B.Sc Facility Services',\n",
       " 'B.Sc Jewellery Design',\n",
       " 'B.Sc Computer Science Mathematics and Physics',\n",
       " 'Ph.D Logistics',\n",
       " 'M.Ch Cardiovascular and Thoracic Surgery',\n",
       " 'Ph.D Human Resource',\n",
       " 'ME Industrial Safety Engineering',\n",
       " 'M.Sc Pure Mathematics',\n",
       " 'B.Sc Medical Imaging Technology Lateral Entry',\n",
       " 'B.Tech Civil Engineering Lateral Entry',\n",
       " 'PGD Mental Health',\n",
       " 'ME Transportation Engineering and Management',\n",
       " 'M.Sc Life Sciences',\n",
       " 'Electronic and Electrical Engineering',\n",
       " 'B.Sc Botany Major',\n",
       " 'B.Tech and M.Tech Applied Electronics and Instrumentation Engineering Integrated',\n",
       " 'B.Sc Dialysis Technology',\n",
       " 'PG Diploma in Journalism',\n",
       " 'PGD MRI',\n",
       " 'M.Tech Power Plant Engineering and Energy Management',\n",
       " 'B.Sc Agricultural Meteorology',\n",
       " 'M.Tech Communication Systems',\n",
       " 'BVA Sculpture',\n",
       " 'M.Plan Environmental Planning and Management',\n",
       " 'Post Graduate Diploma in Information Technology',\n",
       " 'B.Com Commerce with Computer Application',\n",
       " 'B.Sc Applied Physics Major',\n",
       " 'BE Electronics Engineering II Shift',\n",
       " 'BE Computer science and Engineering',\n",
       " 'Ph.D Operations Management',\n",
       " 'B.Tech EEE with Specialization in Renewable Energy',\n",
       " 'Ph.D Fishery Extension',\n",
       " 'M.Phil Nano Technology',\n",
       " 'Journalism and Hindi Language Computing Part Time',\n",
       " 'B.Sc Cardiac Technology',\n",
       " 'B.Tech and M.Tech Pharmacy Integrated',\n",
       " 'ME Design and Thermal Engineering Part Time',\n",
       " 'M.F.Sc Fisheries',\n",
       " 'Diploma in Prosthetics and Orthotics',\n",
       " 'Post Diploma in Computer Aided Design Manufacture and Engineering',\n",
       " 'Ph.D Fish Quality Assurance and Management Part Time',\n",
       " 'Diploma in Production Engineering Evening',\n",
       " 'BFA Sculpture Self Finance',\n",
       " 'M. Tech Digital Communication',\n",
       " 'B.Tech Electrical and Computer Engineering',\n",
       " 'M.Sc Mathematics Integrated',\n",
       " 'Diploma in Mechanical Tool and Die Engineering Lateral Entry',\n",
       " 'B.Optometry',\n",
       " 'BA MIL Assamese Major',\n",
       " 'M.Tech Foundry Technology',\n",
       " 'BASLP',\n",
       " 'B.Sc Game Design and Development',\n",
       " 'M.Tech Biomedical Instrumentation',\n",
       " 'B.Tech Planning Self Finance',\n",
       " 'MA Islamic Studies',\n",
       " 'BBA Tourism Management',\n",
       " 'M.Phil Human Resources Management Part Time',\n",
       " 'M.Com E-Commerce and Financial Management',\n",
       " 'BCA MCA Dual Degree',\n",
       " 'M.Sc Obstetrics and Gynaecological Nursing',\n",
       " 'Diploma in Health and Fitness Nutrition',\n",
       " 'Ph.D Dairy Economics',\n",
       " 'ME Water Resources and Environmental Engineering Part Time',\n",
       " 'M.Sc Naturopathy and Yoga',\n",
       " 'B.Com Finance and Accounts Specializations and Computer Application',\n",
       " 'PG Diploma in Rubber Technology',\n",
       " 'B.Sc Human Science',\n",
       " 'MBA Tourism and Travel Management Self Finance',\n",
       " 'Diploma in Computer Aided Design Lateral Entry',\n",
       " 'BA Editing',\n",
       " 'MCA Integrated',\n",
       " 'BBA Tourism and Hospitality Management',\n",
       " 'B.Voc Cyber Security and Information Technology',\n",
       " 'Diploma in Power Electronics Engineering',\n",
       " 'M.Tech Thermal Sciences and Energy Systems',\n",
       " 'B.Sc Nursing Applied',\n",
       " 'M.Sc Mathematics English Medium',\n",
       " 'B.Com Computer Application II Shift',\n",
       " 'M.Phil Odia',\n",
       " 'MA Negotiation',\n",
       " 'B.Music',\n",
       " 'PGD in Maritime Law',\n",
       " 'M.Tech Textile Technology',\n",
       " 'ME Apparel Technology',\n",
       " 'Ph.D Special Education',\n",
       " 'B.Tech Electrical and Electronics Engineering II Shift',\n",
       " 'BA Dramatics',\n",
       " 'MBA Supply Chain Management and Logistics with Safeducate',\n",
       " 'M.Sc Animal Science',\n",
       " 'PGD Water Resource Management',\n",
       " 'Diploma in Nursing and Compounder',\n",
       " 'M.Tech Structures and Design',\n",
       " 'Post Graduate Diploma in Intellectual Property Law',\n",
       " 'M.Tech Wireless and Mobile Communication II Shift',\n",
       " 'MDS Periodontology',\n",
       " 'B.Tech M.Tech Electronics and Communication Engineering',\n",
       " 'M.Tech High Voltage Engineering',\n",
       " 'M.Tech Research Power Electronics and Electrical Drives',\n",
       " 'Diploma in Modern Pharmacology',\n",
       " 'M.Sc and B.Ed Economics Integrated',\n",
       " 'Diploma in Water Technology and Health Science',\n",
       " 'ME Water Resources Engineering',\n",
       " 'MPT Pediatric Neurology',\n",
       " 'M.Sc Agricultural Business Management',\n",
       " 'Ph.D Healthcare and Hospital Management',\n",
       " 'B.Tech Computer Science And Business System',\n",
       " 'B.Sc Naturopathy and Yoga',\n",
       " 'MCA Lateral Entry',\n",
       " 'B.Com Sales Tax and Income Tax',\n",
       " 'B.Tech and M.Tech Renewable Energy Technology Dual Degree',\n",
       " 'B.Sc-Maths',\n",
       " 'Diploma in Accounting and Auditing',\n",
       " 'M.Sc Nursing Community Health Nursing',\n",
       " 'BE Computer and Communication Engineering',\n",
       " 'M.V.Sc Physiology',\n",
       " 'M.Tech Industrial Automation',\n",
       " 'Diploma in Civil Engineering Environmental and Pollution Control',\n",
       " 'M.Tech Plastics Engineering',\n",
       " 'M.Sc and Ph.D Chemistry Integrated',\n",
       " 'M.Phil Cultural Studies',\n",
       " 'Diploma in Architectural Assistantship Lateral Entry',\n",
       " 'BE Electronics and Power Engineering',\n",
       " 'ME Manufacturing Technology',\n",
       " 'B.Tech Computer Science and Engineering with Specialization in Software Development Programme American Pattern',\n",
       " 'B.Voc Information Technology',\n",
       " 'MA Industrial Psychology',\n",
       " 'B.F.Sc Hons',\n",
       " 'B.Com LLB Hons Integrated',\n",
       " 'MD Yoga',\n",
       " 'M.Tech Aircraft Maintenance Engineering',\n",
       " 'B.Sc Bioinformatics',\n",
       " 'BA History Tamil Medium',\n",
       " 'Diploma in Two Wheeler Mechanism and Maintenance',\n",
       " 'MA Dance Manipuri',\n",
       " 'BA Kurukh Hons II Shift',\n",
       " 'B.Sc Agriculture and MBA Agribusiness',\n",
       " 'B.Com Accounts Hons',\n",
       " 'M.Tech Power Electronics',\n",
       " 'M.Tech Environmental and Water Resources Engineering',\n",
       " 'M.Sc Engineering by Research in Electronics and Communication Engineering',\n",
       " 'MPT Pediatrics',\n",
       " 'B.Sc-Physics Chemistry and Mathematics',\n",
       " 'BA Bangla Hons',\n",
       " 'MA Anthropology',\n",
       " 'PGDM Business Administration',\n",
       " 'Diploma in Architectural Assistantship and B.Des Interior and Furniture Dual Degree',\n",
       " 'PGD Block Chain Technology',\n",
       " 'B.Sc Garment Manufacturing Technology',\n",
       " 'B.Voc Automotive Technology and Maintenance',\n",
       " 'BBA Tourism and Travel Management',\n",
       " 'Ph.D Food Science and Nutrition Part Time',\n",
       " 'Diploma in Architecture II Shift',\n",
       " 'BA History Hons II Shift',\n",
       " 'B.Des Interior',\n",
       " 'M.Sc Agriculture Science',\n",
       " 'BBA Specialization',\n",
       " 'M.Phil Library Science Part Time',\n",
       " 'Ph.D Agriculture',\n",
       " 'Diploma in Electronics Engineering Part Time',\n",
       " 'M.Sc Zoology English Medium',\n",
       " 'D.Ed',\n",
       " 'M.Tech Mechanical Engineering Integrated Four Year',\n",
       " 'Diploma in Biotechnology',\n",
       " 'Diploma in Food Production and Bakery',\n",
       " 'BE Robotics and Automation',\n",
       " 'M.Sc Horticulture Floriculture and Landscape Architecture',\n",
       " 'BA LLB',\n",
       " 'M.Tech Paint Technology',\n",
       " 'B.Sc Operation Theatre Management',\n",
       " 'MS Bioinformatics',\n",
       " 'MS Electrical and Electronics Engineering',\n",
       " 'Drawing and Painting and Economics Self Financing',\n",
       " 'B. Sc Zoology Hons',\n",
       " 'B.Tech Cyber Security',\n",
       " 'Ph.D Animal Genetics and Breeding',\n",
       " 'B.Tech Electrical Engineering',\n",
       " 'B.Sc Maths Group',\n",
       " 'MA Social Anthropology',\n",
       " 'MA Ethics',\n",
       " 'M.Tech Computer Technology and Application',\n",
       " 'Computer Science and Engineering 1st Shift',\n",
       " 'Diploma in Leather Technology Footwear CASD II Shift',\n",
       " 'Ph.D Oral and Maxillofacial Surgery',\n",
       " 'B.Sc Agricultural Nematology',\n",
       " 'B.Tech Paint Technology',\n",
       " 'B.Com Entrepreneurship',\n",
       " 'M.Tech and Ph.D Production Engineering Dual Degree',\n",
       " 'Ph.D International Organisation',\n",
       " 'BA Oriya Hons',\n",
       " 'B.Tech Mechanical Engineering and MBA Dual Degree',\n",
       " 'MA Economics Integrated',\n",
       " 'M.Sc Plant Pathology',\n",
       " 'Diploma in Meat Technology',\n",
       " 'B.Des Film and Video',\n",
       " 'Ph.D Mathematics Part Time',\n",
       " 'BBA Financial Markets Hons in Collaboration with NSE India',\n",
       " 'B.Tech Computer Science and System Engineering',\n",
       " 'M.Tech Computer Engineering',\n",
       " 'PGD Library',\n",
       " 'MA Political Economy of Latin America',\n",
       " 'ME Computer Science and Engineering Networks',\n",
       " 'M.Tech Embedded Systems and Internet of Things',\n",
       " 'BA Khasi Hons Morning Shift',\n",
       " 'M.Sc Agricultural Crop Physiology',\n",
       " 'B.Des M.Des Dual Degree',\n",
       " 'MDS Oral Pathology and Microbiology',\n",
       " 'MCA Hons',\n",
       " 'B.Sc Physician Assistant',\n",
       " 'BBA LLB Integrated',\n",
       " 'ME Instrumentation Engineering',\n",
       " 'M.Tech Medical Instrumentation',\n",
       " 'MBA Logistics and Supply Chain Management in Collaboration with Safeducate',\n",
       " 'M.Sc Agro Chemicals and Pest Management',\n",
       " 'M.Sc Food Technology Integrated',\n",
       " 'MD lmul Advia',\n",
       " 'BA Music Hons',\n",
       " 'B.Sc Botany Biochemistry and Zoology',\n",
       " 'M.Tech Renewable Energy Technologies',\n",
       " 'PGD Bioinformatics and Rational Drug Design',\n",
       " 'M.Phil Pharmaceutics',\n",
       " 'PG Diploma in Management of Learning Disability',\n",
       " 'B.Sc Food Service Management and Dietetics',\n",
       " 'Ph.D Computer Science and Applications',\n",
       " 'B.Sc Hotel Management and Tourism Lateral Entry',\n",
       " 'MSW Counselling',\n",
       " 'M.Tech Big Data Analytics and Cloud Computing',\n",
       " 'BCS',\n",
       " 'BCA Web Technology and Mobile Application',\n",
       " 'M.Sc Computer Applications and Information Technology Integrated',\n",
       " 'Geography and Hindi',\n",
       " 'PGD International Business Part Time',\n",
       " 'MBA Andhra University',\n",
       " 'Bachelor of Veterinary Science and Animal Husbandry',\n",
       " 'M.Sc Engineering by Research Computer Science and Engineering Part Time',\n",
       " 'Diploma in Apparel Manufacture and Design',\n",
       " 'M.Phil Home Science',\n",
       " 'M.Sc Vastu Shastra',\n",
       " 'Diploma in Professional Photography',\n",
       " 'PG Diploma in Accommodation Operation and Management',\n",
       " 'B.Com International Finance and Accounting in Collaboration with ACCA UK',\n",
       " 'Diploma in Early Childhood Care in Education',\n",
       " 'M.Sc Interior Design and Resource Management',\n",
       " 'Masters of Technology Management',\n",
       " 'B.Tech Chemical Engineering Lateral Entry',\n",
       " 'B.Tech Data Science And Artificial Intelligence CDAC',\n",
       " 'M.Tech Electronics Engineering with Specialization in VLSI and Embedded System',\n",
       " 'BA Media Studies',\n",
       " 'M.Sc Agriculture',\n",
       " 'PGD Nano Biotechnology',\n",
       " 'M.Tech Power Systems Self Finance',\n",
       " 'M.Tech Thermofluids Engineering',\n",
       " 'BA-Hindi Literature Political Science and History',\n",
       " 'B.Voc Media Studies',\n",
       " 'B.Sc Human Physiology Hons',\n",
       " 'M.Phil Human Resource',\n",
       " 'M.Sc Chemistry Integrated',\n",
       " 'Economics and Sociology',\n",
       " 'PGDHRM',\n",
       " 'Diploma in Food and Beverage',\n",
       " 'BA Farsi Hons',\n",
       " 'Information Technology',\n",
       " 'B.Tech Computer Science and Information Technology',\n",
       " 'BCA Digital Technology',\n",
       " 'B.Sc Nursing Basic',\n",
       " 'PGD in Corporate Communication and Event Management',\n",
       " 'M.Tech Water Resources and Environment',\n",
       " 'ME Industrial Safety and Engineering',\n",
       " 'MS Prasuti Tantra',\n",
       " 'B.Sc Fire and Industrial Safety',\n",
       " 'B.Sc Hotel Management and Catering Technology',\n",
       " 'BA Dress Making and Fashion Coordination',\n",
       " 'B.Des User Experience',\n",
       " 'Diploma in Nautical Science',\n",
       " 'MA Development Studies',\n",
       " 'B.Tech and M.Tech Civil Engineering Integrated',\n",
       " 'M.Lib.I.Sc.',\n",
       " 'B.Tech in Electronics and Communication Engineering in Automobile and Robotics',\n",
       " 'Diploma in Maintenance Engineering Evening Shift',\n",
       " 'B.Sc Aircraft Maintenance',\n",
       " 'PGD in Industrial Personnel Management',\n",
       " 'M.Sc Medical Biotechnology Integrated',\n",
       " 'M.Sc Engineering by Research Electronics and Communications Part Time',\n",
       " 'M.Sc Information Security',\n",
       " 'PGDM MBA',\n",
       " 'Ph.D Veterinary Biochemistry',\n",
       " 'Diploma in Hospital Front Office',\n",
       " 'Post Diploma in Russian',\n",
       " 'B.Sc Medical Record and Health Information Management',\n",
       " 'B.Sc Physics and B.Ed Integrated',\n",
       " 'Ph.D Plant Breeding',\n",
       " 'ME Civil Engineering Construction Management',\n",
       " 'PG Diploma in Companion Animal Practice',\n",
       " 'Ph.D Microbial Sciences',\n",
       " 'M.Tech Climate Change',\n",
       " 'Diploma in Advance Game Design',\n",
       " 'BE Electronics and Telecommunication Engineering II Shift',\n",
       " 'Political Science and Public Administration in English Medium',\n",
       " 'B.Des Digital Experience Design',\n",
       " 'B.Tech Metallurgical and Materials Engineering and M.Tech Materials Science and Engineering Dual Degree',\n",
       " 'M.Sc Statistics',\n",
       " 'M.Sc Marine Microbiology',\n",
       " 'MD Skin and Venereal Diseases',\n",
       " 'Diploma in Operation Theatre and Anaesthesia Technology',\n",
       " 'Bachelor of Retail Management Vocational',\n",
       " 'Diploma in Rehabilitation Therapy',\n",
       " 'BA Mathematics Evening Shift',\n",
       " 'B.Tech Polymer Engineering and Technology',\n",
       " 'B.Sc Computer Science II Shift',\n",
       " 'BA Professional English',\n",
       " 'M.Sc Physics Self Finance',\n",
       " 'Diploma B.Tech in Petrochemicals',\n",
       " 'Diploma in Mechanical tool and die',\n",
       " 'BBA Human Resource Management Hons',\n",
       " 'Ph.D Healthcare and Hospital management',\n",
       " 'MD Anesthesiology',\n",
       " 'Ph.D Human Resource Management',\n",
       " 'MA Ph.D Sociology Integrated',\n",
       " 'M.Voc Automobile',\n",
       " 'BA Research in Sociology',\n",
       " 'M.Tech Marine Engineering and Management',\n",
       " 'M.Phil Clinical Psychology',\n",
       " 'M.Tech Electronics with Specialization in VLSI and Embedded Systems',\n",
       " 'ME Town and Country Planning',\n",
       " 'Ph.D Clinical Research',\n",
       " 'B.Tech Manufacturing Technology',\n",
       " 'Post Diploma in Polymer Science and Rubber Technology',\n",
       " 'MBA Accounting and Finance Integrated',\n",
       " 'MPT Neurophysiotherapy',\n",
       " 'B.Tech Computer and Science Engineering with Cloud Computing in Association with IBM',\n",
       " 'Hindi and Political Science',\n",
       " 'M.Plan',\n",
       " 'Statistics and Economics',\n",
       " 'B. Tech Electronincs and Communication Engineering',\n",
       " 'B.Tech Instrumentation and Control Engineering',\n",
       " 'M.Phil Life Science',\n",
       " 'M.Sc Human Development',\n",
       " 'Post Graduate Diploma in Industrial Management',\n",
       " 'B.Sc Chemistry Hons and M.Sc Chemistry Integrated',\n",
       " 'B.Sc Veterinary Science',\n",
       " 'M.Sc Physician Assistant',\n",
       " 'M.Sc Plant Biotechnology',\n",
       " 'BA History Section B',\n",
       " 'DM Medical Oncology',\n",
       " 'PGD Hospital and Health Management',\n",
       " 'B.Tech Computer Science and Engineering with Specialisation in IOT and Intelligent Systems Hons',\n",
       " 'B.Sc Naturopathy and Yogic Science',\n",
       " 'MBA with Specialization in Cloud Strategy and Management',\n",
       " 'Diploma in Industrial Relations',\n",
       " 'BA-Public Administration',\n",
       " 'PGD E-Commerce',\n",
       " 'M.Phil Geology',\n",
       " 'B.Voc Maintenance of Electrical and Electronics Equipment',\n",
       " 'B.Sc-Computer Application Mathematics and Physics',\n",
       " 'B.Sc Agricultural Fruit Science & Hort. Technology',\n",
       " 'Diploma in Laboratory Technician',\n",
       " 'M.Tech Power System Control Evening Shift',\n",
       " 'Master of Optometry Integrated',\n",
       " 'B.Voc with CFPD in Fired Material Design',\n",
       " 'M.E Power Systems',\n",
       " 'M.Phil Media and Mass Communication',\n",
       " 'M.Sc Electronics',\n",
       " 'Ph.D Humanities and Social Sciences',\n",
       " 'BA Japanese Hons',\n",
       " 'B.Tech Information Technology with Specialization in Cyber Security',\n",
       " 'MA Health Education',\n",
       " 'BMS Airlines Tourism and Hospitality Management',\n",
       " 'Master of Technology Management',\n",
       " 'BA Built Environment Studies Hons',\n",
       " 'B.Tech Computer Engineering',\n",
       " 'M.Tech Photonics',\n",
       " 'MBA Disciplinary and Interdisciplinary Part Time',\n",
       " 'BE Computer Science and Information Technology',\n",
       " 'M.Sc Renal Dialysis Technology',\n",
       " 'M.Sc Applied Mathematics and Computing',\n",
       " 'M.Sc Optometry Technology',\n",
       " 'ME Biotechnology Part Time',\n",
       " 'English and Travel or Tourism',\n",
       " 'Political Science and Urdu',\n",
       " 'B.Tech Environmental Sciences',\n",
       " 'Ph.D Planning and Architecture',\n",
       " 'Diploma in Urology',\n",
       " 'M.Tech Research Humanities and Social Sciences',\n",
       " 'M.Sc Mass Communication Journalism and Advertising',\n",
       " 'B. Com Management Hons',\n",
       " 'BA Home Science English Literature Political Science',\n",
       " 'Ph.D Instrumentation',\n",
       " 'BE Electronics and Computer Engineering Lateral Entry',\n",
       " 'M.Sc Mobile Technology',\n",
       " 'MBA Tech Electronics and Telecommunication Engineering',\n",
       " 'MFA Textile Design',\n",
       " 'PGD Digital Marketing',\n",
       " 'M.Tech Earthquake Engineering',\n",
       " 'Ph.D Architectural Conservation',\n",
       " 'M.Phil Russian and East European Studies',\n",
       " 'M.Sc Ph.D Skin Diseases Management Integrated',\n",
       " 'M.Tech Mechanical Engineering',\n",
       " 'M.Tech Design',\n",
       " 'Ph.D Agriculture and Environmental Sciences',\n",
       " 'M.Tech Soil and Water Conservation Engineering',\n",
       " 'Ph.D Aeronautical Engineering Part Time',\n",
       " 'Electrical and Electronics Engineering',\n",
       " 'PG Diploma in Hindi Translation',\n",
       " 'B.Tech Fire Safety',\n",
       " 'B.Com Banking Management',\n",
       " 'Advance Diploma in Event Management',\n",
       " 'ME Communications Engineering',\n",
       " 'Diploma in Architecture Interior Design',\n",
       " 'Diploma in Hotel and Catering Management',\n",
       " 'B.Com Accountancy Major',\n",
       " 'MD Dermatology',\n",
       " 'M.Tech Digital Electronics and Communication Systems',\n",
       " 'B.Sc Physics Hons and M.Sc Physics Dual Degree',\n",
       " 'Executive MBA Event Management',\n",
       " 'B.Tech Textile Technology',\n",
       " 'MA Adult Continuing Education and Extension',\n",
       " 'MFA Pahari Miniature Painting',\n",
       " 'M.Tech Information Security and Cyber Forensics',\n",
       " 'BE Mechanical Engineering Sandwich Pattern',\n",
       " 'Ph.D Rural Technology',\n",
       " 'PGDM Rural Management',\n",
       " 'MBA PTU Jalandhar',\n",
       " 'ME Embedded System Technology',\n",
       " 'BE Mechanical and Production Engineering',\n",
       " 'M.Sc Clinical Nutrition and Dietetics',\n",
       " 'Diploma in Insurance Management',\n",
       " 'M.Sc Dairy Economics',\n",
       " 'Ph.D Health Sciences',\n",
       " 'BE Computer Technology Lateral Entry',\n",
       " 'B.Lib.I.Sc',\n",
       " 'ME Wireless Communication and Computing',\n",
       " 'MA Sociology',\n",
       " 'M.Sc Psychology Clinical',\n",
       " 'B.Com Travel and Tourism Management Self Financed',\n",
       " 'B.Com Banking and Financial Accounting Hons',\n",
       " 'B.Sc Fire and Safety Studies',\n",
       " 'PGD Civil Engineering',\n",
       " 'M.Tech Structure Engineering',\n",
       " 'B.Com Computer Application',\n",
       " 'M.Phil Mathematics',\n",
       " 'Ph.D Design and Manufacturing',\n",
       " 'B.Sc Chemistry Zoology and Food Nutrition',\n",
       " 'PGD Supply Chain Management',\n",
       " 'ME Energy Engineering',\n",
       " 'Diploma in Indian Culture and Philosophy',\n",
       " 'B.Sc ABM Hons',\n",
       " 'MBA Lateral Entry PTU Jalandhar',\n",
       " 'BE Big Data Analysis',\n",
       " 'Diploma in Radio Diagnosis',\n",
       " 'B.Voc Mobile Communication',\n",
       " 'M.Sc Game Technology',\n",
       " 'B.Tech Cloud Computing',\n",
       " 'PG Diploma in Adult',\n",
       " 'Ph.D Horticulture',\n",
       " 'M.Tech Avionics Evening',\n",
       " 'MD Repertory',\n",
       " 'ME in Communication Systems',\n",
       " 'M.Phil Hotel and Catering Management Part Time',\n",
       " 'M.Sc Organic Farming',\n",
       " 'Diploma in Textile Technology',\n",
       " 'B.Tech Electrical and Electronics Engineering and MBA',\n",
       " 'M.Tech Computer Systems and Networking Part Time',\n",
       " 'Diploma in Taxation Law',\n",
       " 'Sociology and Computer Science',\n",
       " 'M.Sc Chemistry with Specialization in Organic Chemistry',\n",
       " 'BE Chemical Engineering Lateral Entry',\n",
       " 'B.Tech Fire Technology and Safety Lateral Entry',\n",
       " 'M.Sc Clothing and Textiles',\n",
       " 'BA Economics and Mathematics',\n",
       " 'BA Indian polity',\n",
       " 'M.P.Ed Sports',\n",
       " 'B.Sc Pharmacology',\n",
       " 'Ph.D Medical Physiology',\n",
       " 'BA Multimedia',\n",
       " 'BA Visual and Fine Arts Self Finance',\n",
       " 'B.Sc Non Medical Self Finance',\n",
       " 'Ph.D Oral Pathology and Microbiology',\n",
       " 'Ph.D Clothing and Textiles',\n",
       " 'B. Sc Biotechnology with CBZ',\n",
       " 'B.Sc Aviation Management',\n",
       " 'B.Sc Radiation Technology',\n",
       " 'Diploma in Tool Die and Making II Shift',\n",
       " 'M.Tech Nanotechnology and Renewable Energy',\n",
       " 'M.Tech VLSI Design and Embedded System',\n",
       " 'M.Tech Engineering Geology',\n",
       " 'M.Tech Metallurgy Engineering',\n",
       " 'B.Sc Bio Group',\n",
       " 'MA English Literature',\n",
       " 'B.Sc Animal Husbandry International Level',\n",
       " 'Mathametics and Electronics',\n",
       " 'M.Phil Marketing Management Part Time',\n",
       " 'MS by Research Biotechnology',\n",
       " 'Ph.D Fisheries Resource Management Part Time',\n",
       " 'Ph.D Machine Learning Application to Wireless Communication',\n",
       " 'BE Mechanical and Automation Engineering',\n",
       " 'B.Sc Cardio and Perfusion Technology',\n",
       " 'Diploma in Mining Engineering Lateral Entry',\n",
       " 'MDS Prosthodontics Crown and Bridge',\n",
       " 'D.Litt Hindi',\n",
       " 'Diploma in Electronics and Communication Engineering Part Time',\n",
       " 'B.Tech Pharmaceutical Technology',\n",
       " 'ME Computer Science and Information Technology',\n",
       " 'B.Sc Zoology Hons Extra course',\n",
       " 'PGD Business Economics',\n",
       " 'B.Tech Information Techonology',\n",
       " 'BBA Advertisement and Public Relations',\n",
       " 'Diploma in Computer and Science Engineering',\n",
       " 'B.E/B.Tech Electrical and Electronics Engineering',\n",
       " 'MS by Research Software Engineering Part Time',\n",
       " 'M.Tech Metallurgy',\n",
       " 'M.Tech Thermal Science and Energy Science',\n",
       " 'M.Tech Signal and Image Processing',\n",
       " 'MA Music Vocal Self Finance',\n",
       " 'M.Tech Tunnel Engineering',\n",
       " 'B.Arch Town Planning',\n",
       " 'M.Phil Biochemistry Part Time',\n",
       " 'PGP Analytics Part Time',\n",
       " 'Political Science and Modern Language Telugu Medium',\n",
       " 'BBA MBA Pharmacy Education Institute Management',\n",
       " 'LLM Intellectual Property Right',\n",
       " 'B.Sc-Botany Zoology and Chemistry',\n",
       " 'MBA Marketing Management',\n",
       " 'Diploma in Plastics and Polymer Engineering',\n",
       " 'B.Sc Zoology Botany and Chemistry',\n",
       " 'PGD Business Management',\n",
       " 'MBA Hotel Management',\n",
       " 'M.Sc Horticulture Floriculture',\n",
       " 'PGD Tourism Management',\n",
       " 'B.Tech Aerospace Engineering',\n",
       " 'MDS Pedodontics and Preventive Dentistry',\n",
       " 'B.Com Business Process Services',\n",
       " 'M.Tech Power Electronics II Shift',\n",
       " 'B.Com Corporate Accountancy Practice Hons',\n",
       " 'B.Sc Pharmaceutical Science',\n",
       " 'Zoology and Forensic Science',\n",
       " 'B.Tech Mechanical Engineering and M.Tech Mechanical Engineering with Specialization in Product Design',\n",
       " 'B.Tech Computer Science and Design',\n",
       " 'PG Diploma in Yoga Education and Philosophy',\n",
       " 'M.Tech Textile Technology Technical Textiles',\n",
       " 'M.Phil Arabic',\n",
       " 'B.Tech Electronics and Instrumentation Control Lateral Entry',\n",
       " 'MA India and South Asia Studies',\n",
       " 'Diploma in X-Ray Technology',\n",
       " 'B.Tech Computer Science with Specialization in Open Source and Open Standards Technologies in Association with IBM',\n",
       " 'Diploma in Cardiac Care',\n",
       " 'B.Sc Cardiac Perfusion Technology',\n",
       " 'BA-Psychology',\n",
       " 'MBA Health Information Technology in Collaboration with Frost and Sullivan',\n",
       " 'Diploma in Instrumentation and Control Engineering II Shift',\n",
       " 'B.Tech Civil Engineering Evening',\n",
       " 'M.Sc Plant Biology and Biotechnology',\n",
       " 'B.Tech Automation Engineering',\n",
       " 'M.Sc Dietetics',\n",
       " 'B.Tech Computer Science and Engineering with Specialization in Telecom Informatics Collaboration with IBM',\n",
       " 'MBA Pharma Pharmaceutical Management',\n",
       " 'MPT Neurosciences',\n",
       " 'M.Tech Data Engineering',\n",
       " 'M.Tech Automotive Electronics',\n",
       " 'M.Phil Biosensors',\n",
       " 'Sociology and Political Science',\n",
       " 'B.Tech Electronics and Telecommunications Engineering',\n",
       " 'M.Sc Remote Sensing and Geoinformatics',\n",
       " 'M.Tech Embedded System Technology',\n",
       " 'M.Sc Criminal Justice',\n",
       " 'M.Phil Biotechnology Engineering',\n",
       " 'Media Studies and Political Science',\n",
       " 'B.Tech Computer Science and Engineering with Enterprise System Red Hat',\n",
       " 'B.Com Hons Corporate Accounting and Financial Analysis with CMA USA',\n",
       " 'MA Social Innovation and Entrepreneurship',\n",
       " 'M.Tech Mechanical Engineering with Specialization in Autonomous Vehicles',\n",
       " 'BA Political Science Self Finance',\n",
       " 'M.Tech Agriculture Informatics',\n",
       " 'MPT Orthopedic Physiotherapy',\n",
       " 'B.Tech Mechanical Engineering and M.Tech Mechanical System Design Dual Degree',\n",
       " 'M.Tech Chemical Engineering Integrated',\n",
       " 'BBA Entrepreneurship',\n",
       " 'B.Tech Chemical Engineering and MBA',\n",
       " 'MBA Insurance and Risk Management',\n",
       " 'MD Homoeopathic Materia Medica',\n",
       " 'MD Rachana Sharir',\n",
       " 'LLM Tribal and Customary Law',\n",
       " 'M.Tech Computer Science Engineering Part Time',\n",
       " 'B.Sc Psychology',\n",
       " 'Bachelor in Medical Radiology and Imaging Technology',\n",
       " 'M.Ed',\n",
       " 'MA Indian Languages',\n",
       " 'B.Sc Horticulture',\n",
       " 'MA Islamic History and Culture',\n",
       " 'M.Phil Criminology',\n",
       " 'M.Tech Power System and Drives Evening',\n",
       " 'ME Big Data and Analytics',\n",
       " 'MPT Sports Medicine',\n",
       " 'Master of Theology',\n",
       " 'M.V.Sc Veterinary Public Health',\n",
       " 'M.Tech Disaster Assessment and Mitigation',\n",
       " 'MDS Orthodontics and Dento Facial Orthopaedics',\n",
       " 'PGD Air and Space Law',\n",
       " 'Diploma in Critical Care Nursing',\n",
       " 'BA Journalism',\n",
       " 'B.Sc Airlines Tourism and Hospitality',\n",
       " 'B.Sc Clinical Optometry',\n",
       " 'M.Tech Product Design and Manufacturing',\n",
       " 'Diploma in Dairy Husbandry',\n",
       " 'Ph.D Livestock Production Management',\n",
       " 'Diploma in Operation Theater Technician',\n",
       " 'M.Tech VLSI Design Automation and Techniques',\n",
       " 'ME Wireless Technology Part Time',\n",
       " 'PGD in Banking Insurance',\n",
       " 'ME Networks Engineering',\n",
       " 'Diploma in Computer Hardware and Maintenance',\n",
       " 'B.Tech Metallurgy Engineering',\n",
       " 'M.Sc Nursing Obstetric and Gynecological Nursing',\n",
       " 'M.Tech Robotic Engineering',\n",
       " 'Ph.D Fisheries Resource Management',\n",
       " 'M.Tech Structural Engineering Integrated',\n",
       " 'Diploma in Industrial Drug Science',\n",
       " 'BA Drawing and Painting Self Finance',\n",
       " 'M.Sc Tech Applied Geology',\n",
       " 'BSW',\n",
       " 'Diploma in Hotel Management',\n",
       " 'M.Sc Obstetrics & Gynaecological Nursing',\n",
       " 'Bachelor in Speech Therapy',\n",
       " 'B.Sc Nautical Sciences',\n",
       " 'Ph.D Environment Law',\n",
       " 'B.Tech Mechatronics Lateral Entry',\n",
       " 'B.Tech Metallurgical and Material Engineering Hons',\n",
       " 'M.Optom Clinical Optometry',\n",
       " ...}"
      ]
     },
     "execution_count": 42,
     "metadata": {},
     "output_type": "execute_result"
    }
   ],
   "source": [
    "# splitting the comma separated courses \n",
    "courses = engg_colleges[\"Courses\"].str.split(\", \")\n",
    "\n",
    "course_set = set()\n",
    "\n",
    "# adding the unique courses in the course set.\n",
    "for course_list in courses:\n",
    "    for course in course_list:\n",
    "        course_set.add(course)\n",
    "        \n",
    "course_set"
   ]
  },
  {
   "cell_type": "markdown",
   "id": "02795675",
   "metadata": {},
   "source": [
    "### 10. Facilities : This column contains comma separated values of all the Facilities that a particular college offers. This can be normalized into a different table and the corresponding values can be stored for specific college. "
   ]
  },
  {
   "cell_type": "code",
   "execution_count": 43,
   "id": "e46874d5",
   "metadata": {},
   "outputs": [
    {
     "data": {
      "text/plain": [
       "12"
      ]
     },
     "execution_count": 43,
     "metadata": {},
     "output_type": "execute_result"
    }
   ],
   "source": [
    "# getting the count of null values\n",
    "engg_colleges[\"Facilities\"].isna().sum()"
   ]
  },
  {
   "cell_type": "code",
   "execution_count": 44,
   "id": "379e708a",
   "metadata": {},
   "outputs": [],
   "source": [
    "# extracting the facilities for all the colleges\n",
    "facilities = engg_colleges[\"Facilities\"]"
   ]
  },
  {
   "cell_type": "code",
   "execution_count": 45,
   "id": "ad782d36",
   "metadata": {},
   "outputs": [
    {
     "data": {
      "text/plain": [
       "{'Boys Hostel': 3738,\n",
       " 'Girls Hostel': 3805,\n",
       " 'Gym': 2594,\n",
       " 'Library': 4798,\n",
       " 'Sports': 4365,\n",
       " 'Cafeteria': 3887,\n",
       " 'Medical/Hospital': 3238,\n",
       " 'Wifi': 2190,\n",
       " 'IT Infrastructure': 4739,\n",
       " 'Laboratories': 4232,\n",
       " 'Swimming Pool': 182,\n",
       " 'Convenience Store': 688,\n",
       " 'Alumni Associations': 2408,\n",
       " 'Guest Room': 1758,\n",
       " 'Banks Facilities': 1134,\n",
       " 'Auditorium': 3321,\n",
       " 'Transport': 3108,\n",
       " 'Classrooms': 354,\n",
       " 'Parking Facility': 343,\n",
       " 'Moot Court': 16}"
      ]
     },
     "execution_count": 45,
     "metadata": {},
     "output_type": "execute_result"
    }
   ],
   "source": [
    "facility_dict = {}\n",
    "\n",
    "for college_facility in facilities:\n",
    "    if type(college_facility) != str:\n",
    "        continue\n",
    "        \n",
    "    facility_list = college_facility.split(\", \")\n",
    "    for facility in facility_list:\n",
    "        if facility not in facility_dict.keys():\n",
    "            facility_dict[facility] = 1\n",
    "        else:\n",
    "            facility_dict[facility] += 1\n",
    "\n",
    "facility_dict"
   ]
  },
  {
   "cell_type": "code",
   "execution_count": 46,
   "id": "fe60365b",
   "metadata": {},
   "outputs": [],
   "source": [
    "# sorting the facility dictionary\n",
    "sorted_facility_list = sorted(facility_dict.items(), key=lambda x:x[1], reverse=True)\n",
    "\n",
    "# extracting the keys and values\n",
    "keys = [x[0] for x in sorted_facility_list]\n",
    "values = [x[1] for x in sorted_facility_list]"
   ]
  },
  {
   "cell_type": "code",
   "execution_count": 47,
   "id": "744a1806",
   "metadata": {},
   "outputs": [
    {
     "data": {
      "text/plain": [
       "<AxesSubplot:>"
      ]
     },
     "execution_count": 47,
     "metadata": {},
     "output_type": "execute_result"
    },
    {
     "data": {
      "image/png": "[encoded data removed]",
      "text/plain": [
       "<Figure size 432x288 with 1 Axes>"
      ]
     },
     "metadata": {
      "needs_background": "light"
     },
     "output_type": "display_data"
    }
   ],
   "source": [
    "# drawing the bar plot\n",
    "sns.barplot(x=values, y=keys)"
   ]
  },
  {
   "cell_type": "markdown",
   "id": "8e78a251",
   "metadata": {},
   "source": [
    "### 11. City : This column contains city values for the corresponding colleges, and can be normalized into a different table.  "
   ]
  },
  {
   "cell_type": "code",
   "execution_count": 48,
   "id": "9c277307",
   "metadata": {},
   "outputs": [
    {
     "data": {
      "text/plain": [
       "0"
      ]
     },
     "execution_count": 48,
     "metadata": {},
     "output_type": "execute_result"
    }
   ],
   "source": [
    "# checking for null values\n",
    "engg_colleges[\"City\"].isna().sum()"
   ]
  },
  {
   "cell_type": "code",
   "execution_count": 49,
   "id": "14c2c747",
   "metadata": {},
   "outputs": [
    {
     "data": {
      "text/plain": [
       "'There are 2137 unique cities present'"
      ]
     },
     "execution_count": 49,
     "metadata": {},
     "output_type": "execute_result"
    }
   ],
   "source": [
    "# getting the count of unique cities\n",
    "f\"There are {len(set(list(engg_colleges['City'])))} unique cities present\""
   ]
  },
  {
   "cell_type": "code",
   "execution_count": 50,
   "id": "1b17edc4",
   "metadata": {
    "scrolled": false
   },
   "outputs": [
    {
     "data": {
      "text/plain": [
       "{'Shahpur Kandi',\n",
       " 'Turakapalle',\n",
       " 'Murlipura at Mishra Ka Barh',\n",
       " 'Kadammanitta',\n",
       " 'Kalaiyur',\n",
       " 'Bapatla',\n",
       " 'Amarpur',\n",
       " 'Thirumayam',\n",
       " 'Khoraj',\n",
       " 'Gadholi',\n",
       " 'Thoothukudi',\n",
       " 'Mewat',\n",
       " 'Burdwan',\n",
       " 'Faridkot',\n",
       " 'Manehroo',\n",
       " 'aganpur',\n",
       " 'Malappuram',\n",
       " 'Chandiprasad',\n",
       " 'Thoothukudi (Tuticorin)',\n",
       " 'Dera Bassi',\n",
       " 'Mallasamudram',\n",
       " 'Cheyyeru Gunnepalli',\n",
       " 'Kochi',\n",
       " 'Ammakulathupatti',\n",
       " 'Gahana Govardhanpur',\n",
       " 'Kalady',\n",
       " 'Asangaon',\n",
       " 'Cherpulassery',\n",
       " 'Melapachchakudi',\n",
       " 'Khatiwas',\n",
       " 'Sirmour',\n",
       " 'Edulabad',\n",
       " 'Bir Hisar',\n",
       " 'Pal',\n",
       " 'Deoli',\n",
       " 'Jalverhi Dhumi',\n",
       " 'Latteri',\n",
       " 'Rewari',\n",
       " 'Guledagudda',\n",
       " 'Raigad',\n",
       " 'Mahurzari',\n",
       " 'Purnea',\n",
       " 'China Rajukuppam',\n",
       " 'Bollikunta',\n",
       " 'Athur',\n",
       " 'Chhibramau',\n",
       " 'Thuraiyur',\n",
       " 'Poonjar',\n",
       " 'Patha Tiruvuru',\n",
       " 'Ballia',\n",
       " 'Bhimtal',\n",
       " 'Chalisgaon',\n",
       " 'Sehore',\n",
       " 'Athanur',\n",
       " 'Kelende',\n",
       " 'Kandukur',\n",
       " 'Ranwan',\n",
       " 'Shihi',\n",
       " 'Thallampadu',\n",
       " 'Mathra',\n",
       " 'Tala',\n",
       " 'Pandori',\n",
       " 'Vembakottai',\n",
       " 'Mummidivaram',\n",
       " 'Chikkaballapura',\n",
       " 'Karoli',\n",
       " 'Marripalem',\n",
       " 'Fulkumari Part',\n",
       " 'Palampur',\n",
       " 'Injambakkam',\n",
       " 'Pasighat',\n",
       " 'Se.Nachipattu',\n",
       " 'Bichpuri',\n",
       " 'Burugupudi',\n",
       " 'Mullangana Vilai',\n",
       " 'Nallanahalli',\n",
       " 'Chimanpura',\n",
       " 'Dimbo',\n",
       " 'Inathukanpatti',\n",
       " 'Bardhaman',\n",
       " 'Thandalam',\n",
       " 'Lakkidi',\n",
       " 'Pandharpur',\n",
       " 'Lahdara',\n",
       " 'Kalambaram',\n",
       " 'Erumbedu',\n",
       " 'Sembodai',\n",
       " 'Golaghat',\n",
       " 'Morbi',\n",
       " 'Daulatpura',\n",
       " 'North 24 Parganas',\n",
       " 'Mamandur',\n",
       " 'Khanpur',\n",
       " 'Behman Diwana',\n",
       " 'Faizpur',\n",
       " 'Thavalakuppam',\n",
       " 'Borawan',\n",
       " 'Othakalmandapam',\n",
       " 'Vailkaalmedu',\n",
       " 'Jagga Nagla',\n",
       " 'Siddipet',\n",
       " 'Biliya',\n",
       " 'GCF Jabalpur',\n",
       " 'Cherlopalle',\n",
       " 'Vellathur',\n",
       " 'Ambathurai',\n",
       " 'Vitthal Udyognagar INA',\n",
       " 'Bagadpur',\n",
       " 'Badlapur',\n",
       " 'Murtuzaguda',\n",
       " 'Ramanepalli',\n",
       " 'Landha',\n",
       " 'Rasayani',\n",
       " 'Dafahat',\n",
       " 'Dantewada',\n",
       " 'Koppal',\n",
       " 'Oddanchatram',\n",
       " 'Panchanai',\n",
       " 'Jaspur',\n",
       " 'Beed',\n",
       " 'Datana',\n",
       " 'Beswan',\n",
       " 'Jhungia',\n",
       " 'Sironja',\n",
       " 'Ayyapuram',\n",
       " 'Ujire',\n",
       " 'Thirumalayampalayam',\n",
       " 'Kokkirapadu',\n",
       " 'Suriyampalayam',\n",
       " 'Haringhata',\n",
       " 'Yermarus',\n",
       " 'Jirota Kalan',\n",
       " 'Mancode',\n",
       " 'Chhatipur',\n",
       " 'Machhali Shahar',\n",
       " 'Arambagh',\n",
       " 'Imli Khera',\n",
       " 'Amargadh',\n",
       " 'Sampla',\n",
       " 'Injakundu',\n",
       " 'Adoni',\n",
       " 'Veerapanjan',\n",
       " 'Saidapuram',\n",
       " 'Rasra',\n",
       " 'Ulliyeri',\n",
       " 'Malasamudra',\n",
       " 'Madagadipet',\n",
       " 'Kurukshetra',\n",
       " 'Chebrolu',\n",
       " 'Khanpur Kalan',\n",
       " 'Perambalur',\n",
       " 'Lalanwali',\n",
       " 'Buxar',\n",
       " 'Ghangapatna',\n",
       " 'Ahiwara',\n",
       " 'Kollumangudi',\n",
       " 'Jhumri Telaiya',\n",
       " 'Bhuvanagiri',\n",
       " 'Surat',\n",
       " 'Rayaraopet',\n",
       " 'Alipur Ibrahimpur Urf Ikk',\n",
       " 'Pusad',\n",
       " 'Arakkonam',\n",
       " 'Phagwara',\n",
       " 'Mandi Gobindgarh',\n",
       " 'Namsai',\n",
       " 'Chollangi Peta',\n",
       " 'Kammasandra',\n",
       " 'Yeshwantnagar',\n",
       " 'Karunguzhipallam',\n",
       " 'Mehmuana',\n",
       " 'Ennapatti',\n",
       " 'Birudur',\n",
       " 'Pagalavadi',\n",
       " 'Shivamogga',\n",
       " 'Boripardhi',\n",
       " 'Ghira',\n",
       " 'Sanwa',\n",
       " 'Wadad',\n",
       " 'Bangarrajupeta',\n",
       " 'Kallupatti',\n",
       " 'Haliyal',\n",
       " 'Serampore',\n",
       " 'Pachpedi',\n",
       " 'Shegaon',\n",
       " 'Tonk',\n",
       " 'Kumta',\n",
       " 'Madhepura',\n",
       " 'Vijayawada',\n",
       " 'Nandigama',\n",
       " 'Roorkee',\n",
       " 'Thanjavur',\n",
       " 'Jamujhari',\n",
       " 'Malout',\n",
       " 'Visnagar',\n",
       " 'Anagahalli',\n",
       " 'Ezhamkulam',\n",
       " 'Sikandarabad',\n",
       " 'Korapalli',\n",
       " 'West Godavari',\n",
       " 'Dimapur',\n",
       " 'Nayagarh',\n",
       " 'Meerut',\n",
       " 'Shahpur',\n",
       " 'Ghataur',\n",
       " 'Phulenagar',\n",
       " 'Jagdalpur',\n",
       " 'Junnar',\n",
       " 'Malakpur',\n",
       " 'Kumudavalli',\n",
       " 'Mirjapur',\n",
       " 'Naramau',\n",
       " 'Parchoor',\n",
       " 'Bovikanam',\n",
       " 'Dehradun',\n",
       " 'Lohar Kangnan',\n",
       " 'Kanina',\n",
       " 'Dhanbad',\n",
       " 'Majali',\n",
       " 'Robertsganj',\n",
       " 'Rewa',\n",
       " 'Venkatramannagudem',\n",
       " 'Gobindanagar',\n",
       " 'Mirkan',\n",
       " 'Nagpur',\n",
       " 'Yerraguntlapalle',\n",
       " 'Bandarapalli',\n",
       " 'Mangawan',\n",
       " 'Daijar',\n",
       " 'Khamdhrol',\n",
       " 'Tikri Khera',\n",
       " 'Asurali',\n",
       " 'Sawargaon',\n",
       " 'Gurralapadu',\n",
       " 'Pilod',\n",
       " 'Pathankot',\n",
       " 'Paalkulam',\n",
       " 'Pudupalayam',\n",
       " 'Rajanagaram',\n",
       " 'Kadanuthala',\n",
       " 'Baghmundi',\n",
       " 'Ghazipur',\n",
       " 'Upleta',\n",
       " 'Ugranu Aht.',\n",
       " 'Ranebennur',\n",
       " 'Dhanora',\n",
       " 'Kotagiri',\n",
       " 'Nilagiri',\n",
       " 'Aranarai North',\n",
       " 'Markapur',\n",
       " 'Mannargudi',\n",
       " 'Bommalramaram',\n",
       " 'Kandlakoi',\n",
       " 'Hosapete',\n",
       " 'Payasambakkam',\n",
       " 'Ranga Reddy Pally',\n",
       " 'Kotla Doom',\n",
       " 'Khapari',\n",
       " 'Davanagere',\n",
       " 'Jamshedpur',\n",
       " 'Ganai Gangoli',\n",
       " 'Sikar',\n",
       " 'Juginda',\n",
       " 'Siruganur',\n",
       " 'Ponda',\n",
       " 'Mulagaon Chennapara',\n",
       " 'Nathusari Chopta',\n",
       " 'Jaipur',\n",
       " 'Jot Tior',\n",
       " 'Meharja',\n",
       " 'Malda',\n",
       " 'Maan',\n",
       " 'Keezharoor',\n",
       " 'Pinatadivada',\n",
       " 'Uveri',\n",
       " 'Chetpet',\n",
       " 'Tiruvannamalai',\n",
       " 'Varichiyur',\n",
       " 'Bikramnagar',\n",
       " 'Sanghi',\n",
       " 'Kokrajhar',\n",
       " 'Hanumanthunigudem',\n",
       " 'Idalbera',\n",
       " 'Chandrapur',\n",
       " 'Seesyawas',\n",
       " 'Nallaganakothapalli',\n",
       " 'Ujjain',\n",
       " 'Ratanpura',\n",
       " 'Bairaguda',\n",
       " 'Choondacherry',\n",
       " 'Tottamudayampatti',\n",
       " 'Bundebaj Nagar',\n",
       " 'Vallam',\n",
       " 'Ballari',\n",
       " 'Bandar Sindri',\n",
       " 'Baheya',\n",
       " 'Shenit',\n",
       " 'Chomu',\n",
       " 'Sukha',\n",
       " 'Atgama',\n",
       " 'M.Kalipatti',\n",
       " 'Abbanakuppe',\n",
       " 'Avaravelli R.F.',\n",
       " 'Coimbatore North',\n",
       " 'Janetpur',\n",
       " 'Kegaon',\n",
       " 'Kamrup',\n",
       " 'Uran Islampur',\n",
       " 'Mandangad',\n",
       " 'Kuragallu',\n",
       " 'Barabanki',\n",
       " 'Banur',\n",
       " 'Kaithal',\n",
       " 'Kalpathar',\n",
       " 'Mullana',\n",
       " 'Gharaunda',\n",
       " 'Nizamabad',\n",
       " 'Ara',\n",
       " 'Akkalkuva',\n",
       " 'Walajabad',\n",
       " 'Kusavapatti',\n",
       " 'Kozhikode',\n",
       " 'Gownivaaripalli',\n",
       " 'Sullia',\n",
       " 'Pazhavilai',\n",
       " 'Sarai Sahjadi',\n",
       " 'Jagdishpur',\n",
       " 'Vasai',\n",
       " 'Patti Rural',\n",
       " 'Maheshwaram',\n",
       " 'Chandramampalli',\n",
       " 'Anickadu',\n",
       " 'Tarakai',\n",
       " 'Kanumalla',\n",
       " 'Dhunrabila',\n",
       " 'Moodalkatte',\n",
       " 'Pudukkottai',\n",
       " 'Nilanga',\n",
       " 'Selu',\n",
       " 'Fatehgarh Sahib',\n",
       " 'Madathara',\n",
       " 'Nilgiris',\n",
       " 'Sangola',\n",
       " 'Chirala',\n",
       " 'Dhuripur',\n",
       " 'Moti Banugar',\n",
       " 'Gollakandriga',\n",
       " 'Majitar',\n",
       " 'Bidadi',\n",
       " 'Gandhi Gram',\n",
       " 'Digras',\n",
       " 'Sitasaongi',\n",
       " 'Faridabad',\n",
       " 'Chhutmalpur',\n",
       " 'Secunderabad',\n",
       " 'Muktsar',\n",
       " 'Eattappilly',\n",
       " 'Tenali',\n",
       " 'Samadhiyala No.1',\n",
       " 'Jhajjar',\n",
       " 'Mogra',\n",
       " 'Javla',\n",
       " 'Thirumazhisai',\n",
       " 'Odalarevu',\n",
       " 'Neemrana',\n",
       " 'Ponnur Malai',\n",
       " 'Timbi',\n",
       " 'Bihiya',\n",
       " 'Karumapuram',\n",
       " 'Ahmedabad',\n",
       " 'Bawarla',\n",
       " 'Diwancheruvu',\n",
       " 'Mehsana',\n",
       " 'Indergarh',\n",
       " 'Kotha Peta Rural',\n",
       " 'Chedulla',\n",
       " 'Dakhena Sekhpur',\n",
       " 'Salvarpatti',\n",
       " 'Gangarar',\n",
       " 'Diamond Harbour',\n",
       " 'Kot',\n",
       " 'Bahiyal',\n",
       " 'Dharmapur',\n",
       " 'Sudhowala',\n",
       " 'Guptipara',\n",
       " 'Hariki',\n",
       " 'Hombady-Mandadi',\n",
       " 'Jharu Majra',\n",
       " 'Patiala',\n",
       " 'Fatehgarh',\n",
       " 'Laxmangarh',\n",
       " 'Sultanpur',\n",
       " 'Jhakhar Pindi',\n",
       " 'Ambhabil',\n",
       " 'Kannur',\n",
       " 'Ariyalur',\n",
       " 'Vegamukkapalem',\n",
       " 'Sullurupeta',\n",
       " 'Belthangady',\n",
       " 'Baniatangi',\n",
       " 'Palaya Appaneri',\n",
       " 'Rangareddy',\n",
       " 'Ibrahimpalle',\n",
       " 'Getlatu',\n",
       " 'Ramakrishna Colony',\n",
       " 'Puliampatti',\n",
       " 'Malayalapuzha',\n",
       " 'Anakapalle',\n",
       " 'Anjaneri',\n",
       " 'Aliganj Benazeer',\n",
       " 'Tumkur',\n",
       " 'Shindevadi',\n",
       " 'Junagadh',\n",
       " 'Tharuvai',\n",
       " 'Machilipatnam',\n",
       " 'Irana',\n",
       " 'Ambak',\n",
       " 'Gumanpura',\n",
       " 'Halligattu',\n",
       " 'Nimbola',\n",
       " 'Begowal',\n",
       " 'Arasur',\n",
       " 'Jaggayyapet',\n",
       " 'Kappiampuliyur',\n",
       " 'Soraon',\n",
       " 'Dusi',\n",
       " 'Naya Raipur',\n",
       " 'Pethappampatti',\n",
       " 'Chitrada',\n",
       " 'Sundakkampalayam',\n",
       " 'Mohali',\n",
       " 'Sohian Khurd',\n",
       " 'Selakui',\n",
       " 'Mambakkam',\n",
       " 'Bhadravathi',\n",
       " 'Shimla',\n",
       " 'Chettikkapalayam',\n",
       " 'Kerwa',\n",
       " 'Barunsing',\n",
       " 'Bordi',\n",
       " 'Kelambakkam',\n",
       " 'Tippakodu R.F.',\n",
       " 'Salimabad',\n",
       " 'Chopda',\n",
       " 'Shikohabad',\n",
       " 'Khanapuram',\n",
       " 'Gopalpur Alias Bidh',\n",
       " 'Trutiapada',\n",
       " 'Srinagar',\n",
       " 'Bilichi',\n",
       " 'Karini Palli',\n",
       " 'Kinara',\n",
       " 'Jondhan Khurd',\n",
       " 'Tanakpur',\n",
       " 'Macherla',\n",
       " 'Pappinayakkanpatti',\n",
       " 'Gajawadi',\n",
       " 'Vilad',\n",
       " 'Sadat',\n",
       " 'Bardwal',\n",
       " 'Ajmer',\n",
       " 'Indapur',\n",
       " 'Sangrur',\n",
       " 'Kutch',\n",
       " 'Randheja',\n",
       " 'Malleru',\n",
       " 'Tangori',\n",
       " 'Radaur',\n",
       " 'Tadipatri',\n",
       " 'Kulumani',\n",
       " 'Cuddalore',\n",
       " 'Vakadavalasa',\n",
       " 'Pottapalayam',\n",
       " 'Ramlingam Palle',\n",
       " 'Pollachi',\n",
       " 'Madlauda',\n",
       " 'Kuruda',\n",
       " 'Palghar',\n",
       " 'Bilaspur Khurd',\n",
       " 'Amalner',\n",
       " 'Rudrapur',\n",
       " 'Aminagar Urf Bhurbaral',\n",
       " 'Kunjpura',\n",
       " 'Fatehpur Dobra',\n",
       " 'Deeppura',\n",
       " 'Melmaruvathur',\n",
       " 'Annamangalam',\n",
       " 'Ramanathapuram',\n",
       " 'Palamel',\n",
       " 'Bhoyan Rathod',\n",
       " 'Puri',\n",
       " 'Jalna',\n",
       " 'Angara',\n",
       " 'Puduchatram',\n",
       " 'Surjitpura',\n",
       " 'Jaula Khurd',\n",
       " 'Ambi',\n",
       " 'Kugawan',\n",
       " 'Barwani',\n",
       " 'Aurangabad',\n",
       " 'Siluvampatty',\n",
       " 'Kheda',\n",
       " 'Melvisharam',\n",
       " 'Mangalpalle',\n",
       " 'Pannankulam',\n",
       " 'Kagal',\n",
       " 'Garur',\n",
       " 'Mumbai',\n",
       " 'Valluru',\n",
       " 'Valaiyapettai',\n",
       " 'Pandharkawada',\n",
       " 'Bagha Purana',\n",
       " 'Sampal',\n",
       " 'Akole',\n",
       " 'Sumerpur',\n",
       " 'Tiruchirapalli',\n",
       " 'Melakavanoor',\n",
       " 'Mohammadpur Road',\n",
       " 'Moniketti Pottal',\n",
       " 'Thudupathi',\n",
       " 'Amreli',\n",
       " 'Uparsankia',\n",
       " 'Raniput',\n",
       " 'Parola',\n",
       " 'Sabbavaram',\n",
       " 'Mookanur',\n",
       " 'Rajupeta',\n",
       " 'Coimbatore',\n",
       " 'Dinarpur',\n",
       " 'Limda',\n",
       " 'Atas Bangar',\n",
       " 'Dorli',\n",
       " 'Salamangalam',\n",
       " 'Pulwama',\n",
       " 'Jind',\n",
       " 'Mindivanipalem',\n",
       " 'Thenmathur',\n",
       " 'Manesamudram',\n",
       " 'Parmanandapur',\n",
       " 'Marripalligudem',\n",
       " 'Sunderpur',\n",
       " 'Halahalli',\n",
       " 'Elambalur',\n",
       " 'Moti Bhoyan',\n",
       " 'Kunnukara',\n",
       " 'Paniv',\n",
       " 'Waki',\n",
       " 'Arnia Mozpur',\n",
       " 'Veppampattu',\n",
       " 'Mahmudabad',\n",
       " 'Gangavaram',\n",
       " 'Barkheda Nathu',\n",
       " 'Kalagampudi',\n",
       " 'Gironi',\n",
       " 'Sherpur',\n",
       " 'Suratgarh',\n",
       " 'Mungalia Kot',\n",
       " 'Kadapa',\n",
       " 'Mysore',\n",
       " 'Velaneshwar',\n",
       " 'Allapakkam',\n",
       " 'Boinchi',\n",
       " 'Sivagiri',\n",
       " 'Abu Road',\n",
       " 'Nande',\n",
       " 'Purulia',\n",
       " 'Itikalapalli',\n",
       " 'Inavolu',\n",
       " 'Kalyani',\n",
       " 'Dongaon',\n",
       " 'Puraheya',\n",
       " 'Naraina',\n",
       " 'Kothaguda',\n",
       " 'Barrackpore',\n",
       " 'Avinashi',\n",
       " 'Madaplathuruth',\n",
       " 'Karimnagar',\n",
       " 'Tiptur',\n",
       " 'Kichha',\n",
       " 'Boliyar',\n",
       " 'Asansol',\n",
       " 'Jaisinghpura at Roopwas',\n",
       " 'Metimellahalli',\n",
       " 'Bhagatua',\n",
       " 'Gadhinglaj',\n",
       " 'Sirsa Khurd',\n",
       " 'Ginjo Thakurgaon',\n",
       " 'Tileijhar',\n",
       " 'Cheranmahadevi',\n",
       " 'Peda Palakaluru',\n",
       " 'Karaikal',\n",
       " 'Bara Kanthalia',\n",
       " 'Surampalli Auto Nagar (ALEAP)',\n",
       " 'Lakhan',\n",
       " 'Kathora',\n",
       " 'Kadanthapatty',\n",
       " 'Panavoor',\n",
       " 'Lonavala',\n",
       " 'Manpur',\n",
       " 'Nipani',\n",
       " 'Matar',\n",
       " 'Yamnampet',\n",
       " 'Navi Mumbai',\n",
       " 'Mohindergarh',\n",
       " 'Esanur',\n",
       " 'Shillong',\n",
       " 'Kethanakonda',\n",
       " 'Baheria Gadgad',\n",
       " 'Valapad',\n",
       " 'Bharanikavu',\n",
       " 'Sujanpur',\n",
       " 'Batthalahalli',\n",
       " 'Bardoli',\n",
       " 'Domara Pocham Pally',\n",
       " 'Chikkagubbi',\n",
       " 'Nathdwara',\n",
       " 'Patauda',\n",
       " 'Khopi',\n",
       " 'Forbesganj',\n",
       " 'Lucknow',\n",
       " 'Palwal',\n",
       " 'Nashik',\n",
       " 'Kishanganj',\n",
       " 'Tumasara',\n",
       " 'Bhoyar',\n",
       " 'Shirpur',\n",
       " 'Guna',\n",
       " 'Thozhuthur',\n",
       " 'Narwana',\n",
       " 'Mahespur',\n",
       " 'Palakhedi',\n",
       " 'Chamba',\n",
       " 'Thiruvallur',\n",
       " 'Uti',\n",
       " 'Vallioor',\n",
       " 'Kuruvady',\n",
       " 'Vikravandi',\n",
       " 'Basavapatna',\n",
       " 'Ujana',\n",
       " 'Kamat Phulbari P',\n",
       " 'Mahuari Kalan',\n",
       " 'Ayikavundanpalayam',\n",
       " 'Khetri',\n",
       " 'Mudapaka',\n",
       " 'Murdeshwar',\n",
       " 'Talegaon Dabhade',\n",
       " 'Marudadu',\n",
       " 'Yadgir',\n",
       " 'Baghpat',\n",
       " 'Parameswara Mangalam',\n",
       " 'Sagoni Kalan',\n",
       " 'Samba',\n",
       " 'Kachhwa',\n",
       " 'Akbarpur',\n",
       " 'Nawda Panth',\n",
       " 'Rasoolpur',\n",
       " 'Keonjhar',\n",
       " 'Velpuru',\n",
       " 'Memury',\n",
       " 'Rail',\n",
       " 'Atit',\n",
       " 'Induri',\n",
       " 'Nilokheri',\n",
       " 'Kollam',\n",
       " 'Palasra',\n",
       " 'Sonipat',\n",
       " 'Kota',\n",
       " 'Ala',\n",
       " 'Shirala',\n",
       " 'Budbud',\n",
       " 'Perla',\n",
       " 'Sri Ganganagar',\n",
       " 'Thennilai West',\n",
       " 'Chennai',\n",
       " 'Salem',\n",
       " 'Balia',\n",
       " 'Modasa',\n",
       " 'Koduvalli',\n",
       " 'Dumbarwadi',\n",
       " 'Gangtok',\n",
       " 'Chikmagalur Rural',\n",
       " 'Basavakalyan',\n",
       " 'Nandiambakkam',\n",
       " 'Kanchipadi',\n",
       " 'Durgapur',\n",
       " 'Karisalkalampatti',\n",
       " 'Bishnupur',\n",
       " 'Moodbidri',\n",
       " 'Bhuri',\n",
       " 'Eramalloor',\n",
       " 'Bharatpur',\n",
       " 'Shankaraghatta',\n",
       " 'Eracha Kulam',\n",
       " 'Ambur',\n",
       " 'Karepalli',\n",
       " 'Jala Dhulagiri',\n",
       " 'Vadodara',\n",
       " 'Khanna',\n",
       " 'Rishikesh',\n",
       " 'Bhusawal',\n",
       " 'Sengattampatti',\n",
       " 'Barnala',\n",
       " 'Basavaipalem',\n",
       " 'Kopargaon',\n",
       " 'Khorda',\n",
       " 'Kherajagpura',\n",
       " 'Gobindgarh',\n",
       " 'Puliyancheri',\n",
       " 'Sundahalli',\n",
       " 'Landran',\n",
       " 'Jankia',\n",
       " 'Ariyur',\n",
       " 'Kondhavli',\n",
       " 'Shehzadpur Pauri',\n",
       " 'Alampur',\n",
       " 'Arang',\n",
       " 'Pillaichavady',\n",
       " 'Panjappur',\n",
       " 'Fazilka',\n",
       " 'Mudivaithanendal',\n",
       " 'Sawarna',\n",
       " 'Ramapuram',\n",
       " 'Mandaiyur',\n",
       " 'Rampur Devrai',\n",
       " 'Kalol',\n",
       " 'Ghatkesar',\n",
       " 'Kodigunta',\n",
       " 'Ashti',\n",
       " 'Gathila Kheda',\n",
       " 'Malumichampatty',\n",
       " 'Pantnagar',\n",
       " 'Satauli',\n",
       " 'Shindoli',\n",
       " 'Nalgonda',\n",
       " 'Bhalki',\n",
       " 'Poduru',\n",
       " 'Jhinga',\n",
       " 'Paravai',\n",
       " 'Tirupur',\n",
       " 'Sadale',\n",
       " 'Lalru',\n",
       " 'Dealpur Daulat',\n",
       " 'Peddanjimedu',\n",
       " 'Sirsa',\n",
       " 'Gummudipoondi',\n",
       " 'Purai',\n",
       " 'Chithapattinam',\n",
       " 'Nanded-Waghala',\n",
       " 'Karnki',\n",
       " 'Jafrabad',\n",
       " 'Terdal',\n",
       " 'Seethalathanda',\n",
       " 'Deeg',\n",
       " 'Kidaripatti',\n",
       " 'Juglan',\n",
       " 'Ravulapalem',\n",
       " 'Hyderabad',\n",
       " 'Uppalada',\n",
       " 'Kanchrapara',\n",
       " 'Kolgaon Thadi',\n",
       " 'Mahua Kheda',\n",
       " 'Nandamuru',\n",
       " 'Pedda Kotakandukur',\n",
       " 'Toruvai',\n",
       " 'Mylavaram',\n",
       " 'Badvel',\n",
       " 'Mathlaggapilng',\n",
       " 'Kalwad Kalan and Khurd',\n",
       " 'Amethi',\n",
       " 'Muzaffarnagar',\n",
       " 'Kallappuliyur',\n",
       " 'Namandi',\n",
       " 'Marthandam',\n",
       " 'Chettiapatti',\n",
       " 'Bassi Babu Khan',\n",
       " 'Belgaum',\n",
       " 'Navsari',\n",
       " 'Enathi',\n",
       " 'Hasanparthy',\n",
       " 'Peth',\n",
       " 'Pallatheri',\n",
       " 'Guntur',\n",
       " 'Kuttichal',\n",
       " 'Periya Seeragapadi',\n",
       " 'Chikodi',\n",
       " 'Sinnar',\n",
       " 'Erumapatti',\n",
       " 'Murtizapur',\n",
       " 'Venkatachalam',\n",
       " 'Duggirala',\n",
       " 'Kheriya Modi',\n",
       " 'Vairavankuppam',\n",
       " 'Banda',\n",
       " 'Babhalgaon',\n",
       " 'Mailam',\n",
       " 'Gopalgoan',\n",
       " 'Ayyangarkulam',\n",
       " 'Kathrota',\n",
       " 'Kukuri Kheda',\n",
       " 'Velur',\n",
       " 'Myadarahalli',\n",
       " 'Nedungur',\n",
       " 'Virar',\n",
       " 'Upli Odan',\n",
       " 'Bibinagar',\n",
       " 'Chak Goniana Khurd',\n",
       " 'Raebareli',\n",
       " 'Hathna',\n",
       " 'Vadaveeranaickenpatty',\n",
       " 'Dothigudem',\n",
       " 'Akabara',\n",
       " 'Gandhinagar',\n",
       " 'Padamatisaiguda',\n",
       " 'Sevalpatti',\n",
       " 'Kolihapuri',\n",
       " 'Kala Amb',\n",
       " 'Kistapuram at Munagala',\n",
       " 'Thennilai',\n",
       " 'Kosamba',\n",
       " 'Balasore',\n",
       " 'Killannur',\n",
       " 'Hansala',\n",
       " 'Jharna',\n",
       " 'Lehra Mohabbat',\n",
       " 'Hoshiar Nagar',\n",
       " 'Moga',\n",
       " 'Baruipur',\n",
       " 'Ananthakrishnarayasamudram',\n",
       " 'Podili',\n",
       " 'Vallabh Vidhyanagar',\n",
       " 'Kurali',\n",
       " 'Kotwan',\n",
       " 'Mulkala',\n",
       " 'Khupsarwadi',\n",
       " 'Palvoncha',\n",
       " 'Yemmiganur',\n",
       " 'Desalpur',\n",
       " 'Ghaila',\n",
       " 'Hulkoti',\n",
       " 'Mampur Bana',\n",
       " 'Shevgaon',\n",
       " 'Gopalapuram',\n",
       " 'Koothampoondi',\n",
       " 'Bhopal',\n",
       " 'Kadayirippu',\n",
       " 'Kaij',\n",
       " 'Nanjaiuthukuli',\n",
       " 'Mahabalipuram',\n",
       " 'Pollikali Palayam',\n",
       " 'Kolhapur',\n",
       " 'Chherat',\n",
       " 'Simrol',\n",
       " 'Gangoh',\n",
       " 'Handowal Kalan',\n",
       " 'Mulsan',\n",
       " 'Kathar',\n",
       " 'Kadachiwadi',\n",
       " 'Mukerian',\n",
       " 'Belhe',\n",
       " 'Gurdaspur',\n",
       " 'Pedda Tekur',\n",
       " 'Palayamkottai',\n",
       " 'Chinnalapatti',\n",
       " 'Konaje',\n",
       " 'Vhirgaon',\n",
       " 'Suran',\n",
       " 'Jorabat',\n",
       " 'Siliguri',\n",
       " 'Berhampur',\n",
       " 'Paritala',\n",
       " 'Sirnoor',\n",
       " 'Tindivanam',\n",
       " 'Jorhat',\n",
       " 'Barara',\n",
       " 'Petlurivaripalem',\n",
       " 'Karad',\n",
       " 'Meharbanpur',\n",
       " 'Phagi',\n",
       " 'Vasudevanallur',\n",
       " 'Thakurki',\n",
       " 'Bhandu',\n",
       " 'Poman',\n",
       " 'Mahabubnagar',\n",
       " 'Narasaraopet',\n",
       " 'Gokanya',\n",
       " 'Changa',\n",
       " 'Parbhani',\n",
       " 'Atmakur',\n",
       " 'Silchar',\n",
       " 'Mandaviamba',\n",
       " 'Ghaziabad',\n",
       " 'Farukh Nagar',\n",
       " 'Alundur',\n",
       " 'Ernakulam',\n",
       " 'Baramati',\n",
       " 'Birhana',\n",
       " 'Gudlavalleru',\n",
       " 'Chamarajanagar',\n",
       " 'Jharsuguda',\n",
       " 'South 24 Parganas',\n",
       " 'Lekoda',\n",
       " 'Kanyakumari',\n",
       " 'Bundi',\n",
       " 'Vichumbe',\n",
       " 'Haripur',\n",
       " 'Naripur Lamachaur',\n",
       " 'Bhora Kalan',\n",
       " 'Buladewala',\n",
       " 'Margao',\n",
       " 'Bhatlapalem',\n",
       " 'Ambassa',\n",
       " 'Vita',\n",
       " 'Prakasam',\n",
       " 'Dungarpur',\n",
       " 'Yavatmal',\n",
       " 'Mandav Nagar',\n",
       " 'Malipada',\n",
       " 'Karur',\n",
       " 'Babia',\n",
       " 'Baldeobas',\n",
       " 'Kot Ise Khan',\n",
       " 'Hathi Pur',\n",
       " 'Himmatnagar',\n",
       " 'Mevalurkuppam',\n",
       " 'Jethuwal',\n",
       " 'Nagar',\n",
       " 'Khordha',\n",
       " 'Agarakattu',\n",
       " 'Pagalpatti',\n",
       " 'Mannadipet',\n",
       " 'Akurdi',\n",
       " 'Edakkunnu',\n",
       " 'Vishnupuri',\n",
       " 'Farhada',\n",
       " 'Ganjam',\n",
       " 'Khajuria Rehwari',\n",
       " 'Arasanoor',\n",
       " 'Mesra',\n",
       " 'Amalapuram',\n",
       " 'Bijapur',\n",
       " 'Hungund',\n",
       " 'Dagru',\n",
       " 'Sambalpur',\n",
       " 'Nagaur',\n",
       " 'Paruvachi',\n",
       " 'Rampur',\n",
       " 'Pukkattupady',\n",
       " 'Ichalkaranji',\n",
       " 'Mokarwadi',\n",
       " 'Faizabad',\n",
       " 'Hathras',\n",
       " 'Kolivakkam',\n",
       " 'Melmuttukur',\n",
       " 'Komarapalayam',\n",
       " 'Greater Noida',\n",
       " 'Chembarambakkam',\n",
       " 'Ratlam',\n",
       " 'Mogar',\n",
       " 'Abhirampur',\n",
       " 'Krishna',\n",
       " 'Nathanallur',\n",
       " 'Safidon',\n",
       " 'Arsena',\n",
       " 'Akbarpur Sallahpur',\n",
       " 'Kezhanuvampattu',\n",
       " 'Dameriguda',\n",
       " 'Jalgaon',\n",
       " 'Jatni',\n",
       " 'Bhusnoor',\n",
       " 'Saunthpur',\n",
       " 'Ratnagiri',\n",
       " 'Majorda',\n",
       " 'Edaikal',\n",
       " 'Jhunjhunu',\n",
       " 'Neral',\n",
       " 'Yerkheda',\n",
       " 'Idupur',\n",
       " 'Karauli',\n",
       " 'Miryalaguda',\n",
       " 'Bansur',\n",
       " 'Debari',\n",
       " 'Mancherial',\n",
       " 'Rajota',\n",
       " 'Parsoda',\n",
       " 'Bhagpur Alias Gagrah',\n",
       " 'Srikakulam',\n",
       " 'Mirakpur',\n",
       " 'Pune',\n",
       " 'Jamkhandi Rural',\n",
       " 'Dewas',\n",
       " 'Sangli',\n",
       " 'Bikaner',\n",
       " 'Khatav',\n",
       " 'Chilakalapudi Rural',\n",
       " 'Radhadamodarpur',\n",
       " 'Panchli Khurd',\n",
       " 'Kirumampakkam',\n",
       " 'Balaghat',\n",
       " 'Sodala',\n",
       " 'Veerapatti',\n",
       " ...}"
      ]
     },
     "execution_count": 50,
     "metadata": {},
     "output_type": "execute_result"
    }
   ],
   "source": [
    "# getting the list of unique cities\n",
    "set(list(engg_colleges['City']))"
   ]
  },
  {
   "cell_type": "code",
   "execution_count": 51,
   "id": "ba1ea18e",
   "metadata": {},
   "outputs": [
    {
     "data": {
      "text/plain": [
       "<AxesSubplot:xlabel='count', ylabel='City'>"
      ]
     },
     "execution_count": 51,
     "metadata": {},
     "output_type": "execute_result"
    },
    {
     "data": {
      "image/png": "[encoded data removed]",
      "text/plain": [
       "<Figure size 432x288 with 1 Axes>"
      ]
     },
     "metadata": {
      "needs_background": "light"
     },
     "output_type": "display_data"
    }
   ],
   "source": [
    "# Getting the top 25 cities containing most universities\n",
    "sns.countplot(data=engg_colleges, y=engg_colleges[\"City\"], order=engg_colleges.City.value_counts().iloc[:25].index)"
   ]
  },
  {
   "cell_type": "markdown",
   "id": "14d1b3c2",
   "metadata": {},
   "source": [
    "### 12. State : This column contains state values for the corresponding colleges, and can be normalized into a different table."
   ]
  },
  {
   "cell_type": "code",
   "execution_count": 52,
   "id": "36f7727f",
   "metadata": {},
   "outputs": [
    {
     "data": {
      "text/plain": [
       "0"
      ]
     },
     "execution_count": 52,
     "metadata": {},
     "output_type": "execute_result"
    }
   ],
   "source": [
    "# checking for null values\n",
    "engg_colleges[\"State\"].isna().sum()"
   ]
  },
  {
   "cell_type": "code",
   "execution_count": 53,
   "id": "27564c23",
   "metadata": {},
   "outputs": [
    {
     "data": {
      "text/plain": [
       "'There are 34 unique states present'"
      ]
     },
     "execution_count": 53,
     "metadata": {},
     "output_type": "execute_result"
    }
   ],
   "source": [
    "# getting the count of unique cities\n",
    "f\"There are {len(set(list(engg_colleges['State'])))} unique states present\""
   ]
  },
  {
   "cell_type": "code",
   "execution_count": 54,
   "id": "af034488",
   "metadata": {},
   "outputs": [
    {
     "data": {
      "text/plain": [
       "{'Andaman and Nicobar Islands',\n",
       " 'Andhra Pradesh',\n",
       " 'Arunachal Pradesh',\n",
       " 'Assam',\n",
       " 'Bihar',\n",
       " 'Chandigarh',\n",
       " 'Chhattisgarh',\n",
       " 'Dadra and Nagar Haveli',\n",
       " 'Delhi',\n",
       " 'Goa',\n",
       " 'Gujarat',\n",
       " 'Haryana',\n",
       " 'Himachal Pradesh',\n",
       " 'Jammu and Kashmir',\n",
       " 'Jharkhand',\n",
       " 'Karnataka',\n",
       " 'Kerala',\n",
       " 'Madhya Pradesh',\n",
       " 'Maharashtra',\n",
       " 'Manipur',\n",
       " 'Meghalaya',\n",
       " 'Mizoram',\n",
       " 'Nagaland',\n",
       " 'Odisha',\n",
       " 'Puducherry',\n",
       " 'Punjab',\n",
       " 'Rajasthan',\n",
       " 'Sikkim',\n",
       " 'Tamil Nadu',\n",
       " 'Telangana',\n",
       " 'Tripura',\n",
       " 'Uttar Pradesh',\n",
       " 'Uttarakhand',\n",
       " 'West Bengal'}"
      ]
     },
     "execution_count": 54,
     "metadata": {},
     "output_type": "execute_result"
    }
   ],
   "source": [
    "# getting the list of unique States\n",
    "set(list(engg_colleges['State']))"
   ]
  },
  {
   "cell_type": "code",
   "execution_count": 55,
   "id": "d33f661a",
   "metadata": {},
   "outputs": [
    {
     "data": {
      "text/plain": [
       "<AxesSubplot:xlabel='count', ylabel='State'>"
      ]
     },
     "execution_count": 55,
     "metadata": {},
     "output_type": "execute_result"
    },
    {
     "data": {
      "image/png": "[encoded data removed]",
      "text/plain": [
       "<Figure size 432x288 with 1 Axes>"
      ]
     },
     "metadata": {
      "needs_background": "light"
     },
     "output_type": "display_data"
    }
   ],
   "source": [
    "# top 25 states containing most universities\n",
    "sns.countplot(data=engg_colleges, y=engg_colleges[\"State\"], order=engg_colleges.State.value_counts().iloc[:25].index)"
   ]
  },
  {
   "cell_type": "markdown",
   "id": "0eed30e4",
   "metadata": {},
   "source": [
    "### 13. Country : This column contains only 1 value i.e India. We can create a new table to scale up the system and accomodate new countries"
   ]
  },
  {
   "cell_type": "code",
   "execution_count": 56,
   "id": "19098768",
   "metadata": {},
   "outputs": [
    {
     "data": {
      "text/plain": [
       "0"
      ]
     },
     "execution_count": 56,
     "metadata": {},
     "output_type": "execute_result"
    }
   ],
   "source": [
    "# checking for null values\n",
    "engg_colleges[\"Country\"].isna().sum()"
   ]
  },
  {
   "cell_type": "code",
   "execution_count": 57,
   "id": "8cfc3e3a",
   "metadata": {},
   "outputs": [
    {
     "data": {
      "text/plain": [
       "'There is 1 unique country present'"
      ]
     },
     "execution_count": 57,
     "metadata": {},
     "output_type": "execute_result"
    }
   ],
   "source": [
    "# getting the count of unique country\n",
    "f\"There is {len(set(list(engg_colleges['Country'])))} unique country present\""
   ]
  },
  {
   "cell_type": "code",
   "execution_count": 58,
   "id": "344a4b9f",
   "metadata": {},
   "outputs": [
    {
     "data": {
      "text/plain": [
       "{'India'}"
      ]
     },
     "execution_count": 58,
     "metadata": {},
     "output_type": "execute_result"
    }
   ],
   "source": [
    "# getting the list of unique Country\n",
    "set(list(engg_colleges['Country']))"
   ]
  },
  {
   "cell_type": "markdown",
   "id": "48c13295",
   "metadata": {},
   "source": [
    "### 14. College Type : This column contains different college types and can be normalized to create a new table"
   ]
  },
  {
   "cell_type": "code",
   "execution_count": 59,
   "id": "b74a15f2",
   "metadata": {},
   "outputs": [
    {
     "data": {
      "text/plain": [
       "1"
      ]
     },
     "execution_count": 59,
     "metadata": {},
     "output_type": "execute_result"
    }
   ],
   "source": [
    "# checking for null values\n",
    "engg_colleges[\"College Type\"].isna().sum()"
   ]
  },
  {
   "cell_type": "code",
   "execution_count": 60,
   "id": "4ca22b81",
   "metadata": {},
   "outputs": [
    {
     "data": {
      "text/plain": [
       "'There are 3 unique college types present'"
      ]
     },
     "execution_count": 60,
     "metadata": {},
     "output_type": "execute_result"
    }
   ],
   "source": [
    "# getting the count of unique college types\n",
    "f\"There are {len(set(list(engg_colleges['College Type'])))} unique college types present\""
   ]
  },
  {
   "cell_type": "code",
   "execution_count": 61,
   "id": "77959ac6",
   "metadata": {},
   "outputs": [
    {
     "data": {
      "text/plain": [
       "{'Private', 'Public/Government', nan}"
      ]
     },
     "execution_count": 61,
     "metadata": {},
     "output_type": "execute_result"
    }
   ],
   "source": [
    "# getting the list of unique college types\n",
    "set(list(engg_colleges['College Type']))"
   ]
  },
  {
   "cell_type": "code",
   "execution_count": 62,
   "id": "74e96974",
   "metadata": {},
   "outputs": [
    {
     "data": {
      "text/plain": [
       "<AxesSubplot:xlabel='College Type', ylabel='count'>"
      ]
     },
     "execution_count": 62,
     "metadata": {},
     "output_type": "execute_result"
    },
    {
     "data": {
      "image/png": "[encoded data removed]",
      "text/plain": [
       "<Figure size 432x288 with 1 Axes>"
      ]
     },
     "metadata": {
      "needs_background": "light"
     },
     "output_type": "display_data"
    }
   ],
   "source": [
    "# count plot for colleges\n",
    "sns.countplot(data=engg_colleges, x=engg_colleges[\"College Type\"])"
   ]
  },
  {
   "cell_type": "markdown",
   "id": "bf01841e",
   "metadata": {},
   "source": [
    "### 15. Average Fees : This column contains average fees for the colleges."
   ]
  },
  {
   "cell_type": "code",
   "execution_count": 63,
   "id": "d688cd13",
   "metadata": {},
   "outputs": [
    {
     "data": {
      "text/plain": [
       "0"
      ]
     },
     "execution_count": 63,
     "metadata": {},
     "output_type": "execute_result"
    }
   ],
   "source": [
    "# checking for null values\n",
    "engg_colleges[\"Average Fees\"].isna().sum()"
   ]
  },
  {
   "cell_type": "code",
   "execution_count": 64,
   "id": "f0b2094a",
   "metadata": {},
   "outputs": [
    {
     "data": {
      "text/plain": [
       "dtype('float64')"
      ]
     },
     "execution_count": 64,
     "metadata": {},
     "output_type": "execute_result"
    }
   ],
   "source": [
    "# getting the overview of the data\n",
    "engg_colleges[\"Average Fees\"].dtype"
   ]
  },
  {
   "cell_type": "code",
   "execution_count": 65,
   "id": "33d5becb",
   "metadata": {},
   "outputs": [
    {
     "data": {
      "text/plain": [
       "count    4.830000e+03\n",
       "mean     1.945764e+05\n",
       "std      1.778316e+05\n",
       "min      3.000000e+02\n",
       "25%      9.945854e+04\n",
       "50%      1.600000e+05\n",
       "75%      2.452497e+05\n",
       "max      3.578597e+06\n",
       "Name: Average Fees, dtype: float64"
      ]
     },
     "execution_count": 65,
     "metadata": {},
     "output_type": "execute_result"
    }
   ],
   "source": [
    "engg_colleges[\"Average Fees\"].describe()"
   ]
  },
  {
   "cell_type": "code",
   "execution_count": 66,
   "id": "1dbb8346",
   "metadata": {},
   "outputs": [
    {
     "data": {
      "text/plain": [
       "<AxesSubplot:xlabel='Average Fees', ylabel='Count'>"
      ]
     },
     "execution_count": 66,
     "metadata": {},
     "output_type": "execute_result"
    },
    {
     "data": {
      "image/png": "[encoded data removed]",
      "text/plain": [
       "<Figure size 432x288 with 1 Axes>"
      ]
     },
     "metadata": {
      "needs_background": "light"
     },
     "output_type": "display_data"
    }
   ],
   "source": [
    "sns.histplot(data=engg_colleges[\"Average Fees\"], bins=60)"
   ]
  },
  {
   "cell_type": "markdown",
   "id": "7a64db8f",
   "metadata": {},
   "source": [
    "## Inserting the data into the database"
   ]
  },
  {
   "cell_type": "code",
   "execution_count": 388,
   "id": "49168599",
   "metadata": {},
   "outputs": [],
   "source": [
    "config = {\n",
    "  'user': 'root',\n",
    "  'password': 'root',\n",
    "  'host': 'localhost',\n",
    "  'port': 8889,\n",
    "  'database': 'universities_database',\n",
    "  'raise_on_warnings': True\n",
    "}"
   ]
  },
  {
   "cell_type": "code",
   "execution_count": 389,
   "id": "1f0bdaee",
   "metadata": {},
   "outputs": [],
   "source": [
    "universities_database = mysql.connector.connect(**config)"
   ]
  },
  {
   "cell_type": "code",
   "execution_count": 390,
   "id": "1fef46ca",
   "metadata": {},
   "outputs": [],
   "source": [
    "cursor = universities_database.cursor(dictionary=True)"
   ]
  },
  {
   "cell_type": "code",
   "execution_count": 391,
   "id": "79a25a6f",
   "metadata": {},
   "outputs": [
    {
     "name": "stdout",
     "output_type": "stream",
     "text": [
      "[{'user_id': 1, 'user_first_name': 'Shrirang', 'user_last_name': 'Mhalgi', 'email': 'shrirangmhalgi@gmail.com', 'password': 'root', 'mobile_number': 9876543201}, {'user_id': 2, 'user_first_name': 'Manali', 'user_last_name': 'Shelar', 'email': 'manalivs@gmail.com', 'password': 'manali', 'mobile_number': 9876543201}]\n"
     ]
    }
   ],
   "source": [
    "# checking whether we are able to connect to the database\n",
    "cursor.execute('SELECT * FROM user_details')\n",
    "\n",
    "#This method fetches all rows of the query result set. \n",
    "myresult = cursor.fetchall()\n",
    "print(myresult)"
   ]
  },
  {
   "cell_type": "markdown",
   "id": "9419dde5",
   "metadata": {},
   "source": [
    "## inserting data into Facilities table"
   ]
  },
  {
   "cell_type": "code",
   "execution_count": 392,
   "id": "54c0d809",
   "metadata": {},
   "outputs": [
    {
     "name": "stdout",
     "output_type": "stream",
     "text": [
      "successfully inserted data in the facility table\n"
     ]
    }
   ],
   "source": [
    "# populating the facilities table\n",
    "for key in facility_dict.keys():\n",
    "    query = f\"insert into facilities (facility) values ('{key}')\"\n",
    "    cursor.execute(query)\n",
    "\n",
    "print(\"successfully inserted data in the facility table\")\n",
    "universities_database.commit()"
   ]
  },
  {
   "cell_type": "code",
   "execution_count": 393,
   "id": "658ca907",
   "metadata": {},
   "outputs": [
    {
     "name": "stdout",
     "output_type": "stream",
     "text": [
      "successfully inserted data in the college_type table\n"
     ]
    }
   ],
   "source": [
    "# populating the college_type table\n",
    "unique_college_types = set(list(engg_colleges['College Type']))\n",
    "\n",
    "for college_type in unique_college_types:\n",
    "    if type(college_type) == float:\n",
    "        continue\n",
    "    \n",
    "    query = f\"insert into college_type (college_type) values ('{college_type}')\"\n",
    "    cursor.execute(query)\n",
    "\n",
    "print(\"successfully inserted data in the college_type table\")\n",
    "universities_database.commit()"
   ]
  },
  {
   "cell_type": "code",
   "execution_count": 394,
   "id": "55032197",
   "metadata": {},
   "outputs": [
    {
     "name": "stdout",
     "output_type": "stream",
     "text": [
      "successfully inserted data in the indian_states table\n"
     ]
    }
   ],
   "source": [
    "# populating the indian_states table\n",
    "indian_states = set(list(engg_colleges['State']))\n",
    "\n",
    "for state in indian_states:\n",
    "    query = f\"insert into indian_states (state) values ('{state}')\"\n",
    "    cursor.execute(query)\n",
    "\n",
    "print(\"successfully inserted data in the indian_states table\")\n",
    "universities_database.commit()"
   ]
  },
  {
   "cell_type": "code",
   "execution_count": 395,
   "id": "2f72f193",
   "metadata": {},
   "outputs": [
    {
     "name": "stdout",
     "output_type": "stream",
     "text": [
      "successfully inserted data in the indian_cities table\n"
     ]
    }
   ],
   "source": [
    "# populating the indian_cities table \n",
    "indian_cities = set(list(engg_colleges['City']))\n",
    "\n",
    "for city in indian_cities:\n",
    "    query = f\"insert into indian_cities (city) values ('{city}')\"\n",
    "    cursor.execute(query)\n",
    "\n",
    "print(\"successfully inserted data in the indian_cities table\")\n",
    "universities_database.commit()"
   ]
  },
  {
   "cell_type": "code",
   "execution_count": 396,
   "id": "e328bc5e",
   "metadata": {},
   "outputs": [
    {
     "name": "stdout",
     "output_type": "stream",
     "text": [
      "successfully inserted data in the country table\n"
     ]
    }
   ],
   "source": [
    "# populating the country table \n",
    "countries = {\"United States of America\", \"India\"}\n",
    "\n",
    "for country in countries:\n",
    "    query = f\"insert into country (country_code, country_name) values ('', '{country}')\"\n",
    "    cursor.execute(query)\n",
    "\n",
    "print(\"successfully inserted data in the country table\")\n",
    "universities_database.commit()"
   ]
  },
  {
   "cell_type": "code",
   "execution_count": 397,
   "id": "4367ca18",
   "metadata": {},
   "outputs": [
    {
     "name": "stdout",
     "output_type": "stream",
     "text": [
      "successfully inserted data in the courses table\n"
     ]
    }
   ],
   "source": [
    "# populating the courses table \n",
    "for course in course_set:\n",
    "    query = f'insert into courses (course_name) values (\"{course}\")'\n",
    "    cursor.execute(query)\n",
    "\n",
    "print(\"successfully inserted data in the courses table\")\n",
    "universities_database.commit()\n",
    "    # engg_colleges.columns"
   ]
  },
  {
   "cell_type": "code",
   "execution_count": 398,
   "id": "ad05625c",
   "metadata": {},
   "outputs": [
    {
     "name": "stdout",
     "output_type": "stream",
     "text": [
      "successfully inserted data in the indian_universities table\n"
     ]
    }
   ],
   "source": [
    "# populating the indian_universities table\n",
    "indian_universities = set(list(engg_colleges['University']))\n",
    "\n",
    "for university in indian_universities:\n",
    "    query = f'insert into indian_universities (university_name) values (\"{university}\")'\n",
    "    cursor.execute(query)\n",
    "\n",
    "print(\"successfully inserted data in the indian_universities table\")\n",
    "universities_database.commit()"
   ]
  },
  {
   "cell_type": "code",
   "execution_count": 399,
   "id": "05f2e864",
   "metadata": {
    "scrolled": true
   },
   "outputs": [
    {
     "name": "stdout",
     "output_type": "stream",
     "text": [
      "successfully inserted data in the genders table\n"
     ]
    }
   ],
   "source": [
    "# populating the genders table\n",
    "unique_genders = set(engg_colleges[\"Genders Accepted\"])\n",
    "\n",
    "for gender in unique_genders:\n",
    "    if type(gender) == float:\n",
    "        continue\n",
    "    \n",
    "    query = f\"insert into genders (gender) values ('{gender}')\"\n",
    "    cursor.execute(query)\n",
    "\n",
    "print(\"successfully inserted data in the genders table\")\n",
    "universities_database.commit()\n"
   ]
  },
  {
   "cell_type": "code",
   "execution_count": 400,
   "id": "a32d2fcd",
   "metadata": {},
   "outputs": [],
   "source": [
    "engg_colleges[\"Total Student Enrollments\"] = engg_colleges[\"Total Student Enrollments\"].fillna(-1)\n",
    "engg_colleges[\"Campus Size\"] = engg_colleges[\"Campus Size\"].fillna(-1)\n",
    "engg_colleges[\"Total Faculty\"] = engg_colleges[\"Total Faculty\"].fillna(-1)\n",
    "engg_colleges[\"Established Year\"] = engg_colleges[\"Established Year\"].fillna(-1)\n",
    "engg_colleges[\"Rating\"] = engg_colleges[\"Rating\"].fillna(-1)"
   ]
  },
  {
   "cell_type": "code",
   "execution_count": 401,
   "id": "6d536302",
   "metadata": {},
   "outputs": [
    {
     "name": "stderr",
     "output_type": "stream",
     "text": [
      "100%|███████████████████████████████████████| 4830/4830 [06:25<00:00, 12.51it/s]"
     ]
    },
    {
     "name": "stdout",
     "output_type": "stream",
     "text": [
      "successfully inserted data into indian_colleges\n"
     ]
    },
    {
     "name": "stderr",
     "output_type": "stream",
     "text": [
      "\n"
     ]
    }
   ],
   "source": [
    "# populating the indian_colleges table\n",
    "for i in tqdm(range(len(engg_colleges))):\n",
    "    # updating the college_name \n",
    "    college_name = engg_colleges.iloc[i][\"College Name\"]\n",
    "    \n",
    "    # updating the campus size\n",
    "    campus_size = -1\n",
    "    if engg_colleges.iloc[i][\"Campus Size\"] != None: \n",
    "        campus_size = engg_colleges.iloc[i][\"Campus Size\"]\n",
    "    \n",
    "    # updating the genders_accepted value\n",
    "    genders_accepted = -1\n",
    "    genders_accepted_query = f\"select gender_id from genders where gender = '{engg_colleges.iloc[i]['Genders Accepted']}'\" \n",
    "    cursor.execute(genders_accepted_query)\n",
    "    myresult = cursor.fetchall()\n",
    "    if len(myresult) != 0:\n",
    "        genders_accepted = myresult[0][\"gender_id\"]\n",
    "        \n",
    "    # updating the total_student_enrollments value\n",
    "    total_student_enrollments = -1\n",
    "    if engg_colleges.iloc[i][\"Total Student Enrollments\"] != None:\n",
    "        total_student_enrollments = engg_colleges.iloc[i][\"Total Student Enrollments\"] \n",
    "    \n",
    "    # updating the total_faculty_count\n",
    "    total_faculty_count = -1\n",
    "    if engg_colleges.iloc[i][\"Total Faculty\"] != None:\n",
    "        total_faculty_count = engg_colleges.iloc[i][\"Total Faculty\"] \n",
    "    \n",
    "    # updating the established_year\n",
    "    established_year = -1\n",
    "    if engg_colleges.iloc[i][\"Established Year\"] != None:\n",
    "        established_year = engg_colleges.iloc[i][\"Established Year\"] \n",
    "    \n",
    "    # updating the rating \n",
    "    rating = -1\n",
    "    if engg_colleges.iloc[i][\"Rating\"] != None:\n",
    "        rating = engg_colleges.iloc[i][\"Rating\"]\n",
    "    \n",
    "    # updating the university_id\n",
    "    university_id = -1\n",
    "    university_id_query = f'select university_id from indian_universities where university_name = \"{engg_colleges.iloc[i][\"University\"]}\"' \n",
    "    cursor.execute(university_id_query)\n",
    "    myresult = cursor.fetchall()\n",
    "    university_id = myresult[0][\"university_id\"]\n",
    "    \n",
    "    # updating the courses\n",
    "    courses = ''\n",
    "    courses_str = engg_colleges.iloc[i][\"Courses\"]\n",
    "    if type(courses_str) != float:\n",
    "        courses_list = courses_str.split(', ')\n",
    "        for course in courses_list:\n",
    "            course_query = f'select course_id from courses where course_name = \"{course}\"' \n",
    "            cursor.execute(course_query)\n",
    "            myresult = cursor.fetchall()\n",
    "            courses += f'{myresult[0][\"course_id\"]},'\n",
    "    \n",
    "        courses = courses[:-1]\n",
    "        \n",
    "    \n",
    "    # updating the facilities\n",
    "    facilities = ''\n",
    "    facs = engg_colleges.iloc[i][\"Facilities\"]\n",
    "    if type(facs) != float:\n",
    "        facilities_list = facs.split(', ')\n",
    "        for facility in facilities_list:\n",
    "            facility_query = f'select facility_id from facilities where facility = \"{facility}\"' \n",
    "            cursor.execute(facility_query)\n",
    "            myresult = cursor.fetchall()\n",
    "            facilities += f'{myresult[0][\"facility_id\"]},'\n",
    "    \n",
    "        facilities = facilities[:-1]\n",
    "    \n",
    "    # updating the city_id\n",
    "    city_id = -1\n",
    "    city_query = f'select city_id from indian_cities where city = \"{engg_colleges.iloc[i][\"City\"]}\"' \n",
    "    cursor.execute(city_query)\n",
    "    myresult = cursor.fetchall()\n",
    "    city_id = myresult[0][\"city_id\"]\n",
    "    \n",
    "    # updating the state_id\n",
    "    state_id = -1\n",
    "    state_query = f'select state_id from indian_states where state = \"{engg_colleges.iloc[i][\"State\"]}\"' \n",
    "    cursor.execute(state_query)\n",
    "    myresult = cursor.fetchall()\n",
    "    state_id = myresult[0][\"state_id\"]\n",
    "    \n",
    "    # updating the country_id\n",
    "    country_id = 1\n",
    "    \n",
    "    # updating the college_type_id\n",
    "    college_type_id = -1\n",
    "    college_type_query = f'select college_type_id from college_type where college_type = \"{engg_colleges.iloc[i][\"College Type\"]}\"' \n",
    "    cursor.execute(college_type_query)\n",
    "    myresult = cursor.fetchall()\n",
    "    if len(myresult) != 0:\n",
    "        college_type_id = myresult[0][\"college_type_id\"]\n",
    "    \n",
    "    # updating the average_fees\n",
    "    average_fees = -1\n",
    "    if engg_colleges.iloc[i][\"Average Fees\"] != None:\n",
    "        average_fees = engg_colleges.iloc[i][\"Average Fees\"]\n",
    "    \n",
    "    \n",
    "    # writing the insert query for the indian_colleges\n",
    "    insert_query = f\"\"\"insert into indian_colleges (college_name, campus_size, gender_id, total_student_enrollments, total_faculty_count, established_year, rating, university_id, courses, facilities, city_id, state_id,  country_id, college_type_id, average_fees)  \n",
    "                                values(\"{college_name}\",\n",
    "                                       {campus_size},\n",
    "                                       {genders_accepted},\n",
    "                                       {total_student_enrollments},\n",
    "                                       {total_faculty_count},\n",
    "                                       {established_year},\n",
    "                                       {rating},\n",
    "                                       {university_id},\n",
    "                                       '{courses}',\n",
    "                                       '{facilities}',\n",
    "                                       {city_id},\n",
    "                                       {state_id},\n",
    "                                       {country_id},\n",
    "                                       {college_type_id},\n",
    "                                       {average_fees}\n",
    "                                        )\n",
    "    \"\"\"\n",
    "#     print(genders_accepted)\n",
    "    cursor.execute(insert_query)\n",
    "    \n",
    "\n",
    "universities_database.commit()\n",
    "print(\"successfully inserted data into indian_colleges\")\n"
   ]
  },
  {
   "cell_type": "code",
   "execution_count": null,
   "id": "6cae47ae",
   "metadata": {},
   "outputs": [],
   "source": []
  }
 ],
 "metadata": {
  "kernelspec": {
   "display_name": "Python 3 (ipykernel)",
   "language": "python",
   "name": "python3"
  },
  "language_info": {
   "codemirror_mode": {
    "name": "ipython",
    "version": 3
   },
   "file_extension": ".py",
   "mimetype": "text/x-python",
   "name": "python",
   "nbconvert_exporter": "python",
   "pygments_lexer": "ipython3",
   "version": "3.9.12"
  }
 },
 "nbformat": 4,
 "nbformat_minor": 5
}
